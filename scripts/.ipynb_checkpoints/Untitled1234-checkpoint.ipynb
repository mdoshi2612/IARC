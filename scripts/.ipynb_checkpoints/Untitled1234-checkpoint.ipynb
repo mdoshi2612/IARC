{
 "cells": [
  {
   "cell_type": "code",
   "execution_count": 1,
   "id": "2ddac333-3646-403a-a0dd-3f275a67e29a",
   "metadata": {},
   "outputs": [],
   "source": [
    "from tool.darknet2pytorch import Darknet\n",
    "#from demo import *"
   ]
  },
  {
   "cell_type": "code",
   "execution_count": 2,
   "id": "bdb92e93-a28f-43d6-8133-feddfeb7d8fa",
   "metadata": {},
   "outputs": [],
   "source": [
    "from tool.torch_utils import *"
   ]
  },
  {
   "cell_type": "code",
   "execution_count": 3,
   "id": "496a1b0f-cf92-45ac-a256-f8054309b289",
   "metadata": {},
   "outputs": [
    {
     "name": "stdout",
     "output_type": "stream",
     "text": [
      "convalution havn't activate linear\n",
      "convalution havn't activate linear\n"
     ]
    },
    {
     "data": {
      "text/plain": [
       "Darknet(\n",
       "  (models): ModuleList(\n",
       "    (0): Sequential(\n",
       "      (conv1): Conv2d(3, 32, kernel_size=(3, 3), stride=(2, 2), padding=(1, 1), bias=False)\n",
       "      (bn1): BatchNorm2d(32, eps=1e-05, momentum=0.1, affine=True, track_running_stats=True)\n",
       "      (leaky1): LeakyReLU(negative_slope=0.1, inplace=True)\n",
       "    )\n",
       "    (1): Sequential(\n",
       "      (conv2): Conv2d(32, 64, kernel_size=(3, 3), stride=(2, 2), padding=(1, 1), bias=False)\n",
       "      (bn2): BatchNorm2d(64, eps=1e-05, momentum=0.1, affine=True, track_running_stats=True)\n",
       "      (leaky2): LeakyReLU(negative_slope=0.1, inplace=True)\n",
       "    )\n",
       "    (2): Sequential(\n",
       "      (conv3): Conv2d(64, 64, kernel_size=(3, 3), stride=(1, 1), padding=(1, 1), bias=False)\n",
       "      (bn3): BatchNorm2d(64, eps=1e-05, momentum=0.1, affine=True, track_running_stats=True)\n",
       "      (leaky3): LeakyReLU(negative_slope=0.1, inplace=True)\n",
       "    )\n",
       "    (3): EmptyModule()\n",
       "    (4): Sequential(\n",
       "      (conv4): Conv2d(32, 32, kernel_size=(3, 3), stride=(1, 1), padding=(1, 1), bias=False)\n",
       "      (bn4): BatchNorm2d(32, eps=1e-05, momentum=0.1, affine=True, track_running_stats=True)\n",
       "      (leaky4): LeakyReLU(negative_slope=0.1, inplace=True)\n",
       "    )\n",
       "    (5): Sequential(\n",
       "      (conv5): Conv2d(32, 32, kernel_size=(3, 3), stride=(1, 1), padding=(1, 1), bias=False)\n",
       "      (bn5): BatchNorm2d(32, eps=1e-05, momentum=0.1, affine=True, track_running_stats=True)\n",
       "      (leaky5): LeakyReLU(negative_slope=0.1, inplace=True)\n",
       "    )\n",
       "    (6): EmptyModule()\n",
       "    (7): Sequential(\n",
       "      (conv6): Conv2d(64, 64, kernel_size=(1, 1), stride=(1, 1), bias=False)\n",
       "      (bn6): BatchNorm2d(64, eps=1e-05, momentum=0.1, affine=True, track_running_stats=True)\n",
       "      (leaky6): LeakyReLU(negative_slope=0.1, inplace=True)\n",
       "    )\n",
       "    (8): EmptyModule()\n",
       "    (9): MaxPool2d(kernel_size=2, stride=2, padding=0, dilation=1, ceil_mode=False)\n",
       "    (10): Sequential(\n",
       "      (conv7): Conv2d(128, 128, kernel_size=(3, 3), stride=(1, 1), padding=(1, 1), bias=False)\n",
       "      (bn7): BatchNorm2d(128, eps=1e-05, momentum=0.1, affine=True, track_running_stats=True)\n",
       "      (leaky7): LeakyReLU(negative_slope=0.1, inplace=True)\n",
       "    )\n",
       "    (11): EmptyModule()\n",
       "    (12): Sequential(\n",
       "      (conv8): Conv2d(64, 64, kernel_size=(3, 3), stride=(1, 1), padding=(1, 1), bias=False)\n",
       "      (bn8): BatchNorm2d(64, eps=1e-05, momentum=0.1, affine=True, track_running_stats=True)\n",
       "      (leaky8): LeakyReLU(negative_slope=0.1, inplace=True)\n",
       "    )\n",
       "    (13): Sequential(\n",
       "      (conv9): Conv2d(64, 64, kernel_size=(3, 3), stride=(1, 1), padding=(1, 1), bias=False)\n",
       "      (bn9): BatchNorm2d(64, eps=1e-05, momentum=0.1, affine=True, track_running_stats=True)\n",
       "      (leaky9): LeakyReLU(negative_slope=0.1, inplace=True)\n",
       "    )\n",
       "    (14): EmptyModule()\n",
       "    (15): Sequential(\n",
       "      (conv10): Conv2d(128, 128, kernel_size=(1, 1), stride=(1, 1), bias=False)\n",
       "      (bn10): BatchNorm2d(128, eps=1e-05, momentum=0.1, affine=True, track_running_stats=True)\n",
       "      (leaky10): LeakyReLU(negative_slope=0.1, inplace=True)\n",
       "    )\n",
       "    (16): EmptyModule()\n",
       "    (17): MaxPool2d(kernel_size=2, stride=2, padding=0, dilation=1, ceil_mode=False)\n",
       "    (18): Sequential(\n",
       "      (conv11): Conv2d(256, 256, kernel_size=(3, 3), stride=(1, 1), padding=(1, 1), bias=False)\n",
       "      (bn11): BatchNorm2d(256, eps=1e-05, momentum=0.1, affine=True, track_running_stats=True)\n",
       "      (leaky11): LeakyReLU(negative_slope=0.1, inplace=True)\n",
       "    )\n",
       "    (19): EmptyModule()\n",
       "    (20): Sequential(\n",
       "      (conv12): Conv2d(128, 128, kernel_size=(3, 3), stride=(1, 1), padding=(1, 1), bias=False)\n",
       "      (bn12): BatchNorm2d(128, eps=1e-05, momentum=0.1, affine=True, track_running_stats=True)\n",
       "      (leaky12): LeakyReLU(negative_slope=0.1, inplace=True)\n",
       "    )\n",
       "    (21): Sequential(\n",
       "      (conv13): Conv2d(128, 128, kernel_size=(3, 3), stride=(1, 1), padding=(1, 1), bias=False)\n",
       "      (bn13): BatchNorm2d(128, eps=1e-05, momentum=0.1, affine=True, track_running_stats=True)\n",
       "      (leaky13): LeakyReLU(negative_slope=0.1, inplace=True)\n",
       "    )\n",
       "    (22): EmptyModule()\n",
       "    (23): Sequential(\n",
       "      (conv14): Conv2d(256, 256, kernel_size=(1, 1), stride=(1, 1), bias=False)\n",
       "      (bn14): BatchNorm2d(256, eps=1e-05, momentum=0.1, affine=True, track_running_stats=True)\n",
       "      (leaky14): LeakyReLU(negative_slope=0.1, inplace=True)\n",
       "    )\n",
       "    (24): EmptyModule()\n",
       "    (25): MaxPool2d(kernel_size=2, stride=2, padding=0, dilation=1, ceil_mode=False)\n",
       "    (26): Sequential(\n",
       "      (conv15): Conv2d(512, 512, kernel_size=(3, 3), stride=(1, 1), padding=(1, 1), bias=False)\n",
       "      (bn15): BatchNorm2d(512, eps=1e-05, momentum=0.1, affine=True, track_running_stats=True)\n",
       "      (leaky15): LeakyReLU(negative_slope=0.1, inplace=True)\n",
       "    )\n",
       "    (27): Sequential(\n",
       "      (conv16): Conv2d(512, 256, kernel_size=(1, 1), stride=(1, 1), bias=False)\n",
       "      (bn16): BatchNorm2d(256, eps=1e-05, momentum=0.1, affine=True, track_running_stats=True)\n",
       "      (leaky16): LeakyReLU(negative_slope=0.1, inplace=True)\n",
       "    )\n",
       "    (28): Sequential(\n",
       "      (conv17): Conv2d(256, 512, kernel_size=(3, 3), stride=(1, 1), padding=(1, 1), bias=False)\n",
       "      (bn17): BatchNorm2d(512, eps=1e-05, momentum=0.1, affine=True, track_running_stats=True)\n",
       "      (leaky17): LeakyReLU(negative_slope=0.1, inplace=True)\n",
       "    )\n",
       "    (29): Sequential(\n",
       "      (conv18): Conv2d(512, 255, kernel_size=(1, 1), stride=(1, 1))\n",
       "    )\n",
       "    (30): YoloLayer()\n",
       "    (31): EmptyModule()\n",
       "    (32): Sequential(\n",
       "      (conv19): Conv2d(256, 128, kernel_size=(1, 1), stride=(1, 1), bias=False)\n",
       "      (bn19): BatchNorm2d(128, eps=1e-05, momentum=0.1, affine=True, track_running_stats=True)\n",
       "      (leaky19): LeakyReLU(negative_slope=0.1, inplace=True)\n",
       "    )\n",
       "    (33): Upsample_expand()\n",
       "    (34): EmptyModule()\n",
       "    (35): Sequential(\n",
       "      (conv20): Conv2d(384, 256, kernel_size=(3, 3), stride=(1, 1), padding=(1, 1), bias=False)\n",
       "      (bn20): BatchNorm2d(256, eps=1e-05, momentum=0.1, affine=True, track_running_stats=True)\n",
       "      (leaky20): LeakyReLU(negative_slope=0.1, inplace=True)\n",
       "    )\n",
       "    (36): Sequential(\n",
       "      (conv21): Conv2d(256, 255, kernel_size=(1, 1), stride=(1, 1))\n",
       "    )\n",
       "    (37): YoloLayer()\n",
       "  )\n",
       "  (loss): YoloLayer()\n",
       "  (yolo1): YoloLayer()\n",
       "  (yolo2): YoloLayer()\n",
       "  (yolo3): YoloLayer()\n",
       ")"
      ]
     },
     "execution_count": 3,
     "metadata": {},
     "output_type": "execute_result"
    }
   ],
   "source": [
    "board=Darknet('cfg/yolov4-tiny_box.cfg',inference=True)\n",
    "board.load_weights('backup/yolov4-tiny_box_both_last.weights')\n",
    "board.cuda()"
   ]
  },
  {
   "cell_type": "code",
   "execution_count": 4,
   "id": "39adfbe1-0683-4d35-9ac9-c36c7c3eb942",
   "metadata": {},
   "outputs": [],
   "source": [
    "import cv2"
   ]
  },
  {
   "cell_type": "code",
   "execution_count": 5,
   "id": "49ca7ae9-52eb-4874-a5a0-f9e6513b666f",
   "metadata": {},
   "outputs": [],
   "source": [
    "def my_detect(m,cv_img):\n",
    "  use_cuda=True\n",
    "  img=cv2.resize(cv_img, (m.width, m.height))\n",
    "  img=cv2.cvtColor(img, cv2.COLOR_BGR2RGB)\n",
    "  boxes = do_detect(m, img, 0.2, 0.6, use_cuda)\n",
    "  if len(boxes[0])==0:\n",
    "  \treturn [False,0,0,0,0]\n",
    "  box=boxes[0][0]\n",
    "  h,w,c=cv_img.shape\n",
    "  x1 = int(box[0] * w)\n",
    "  y1 = int(box[1] * h)\n",
    "  x2 = int(box[2] * w)\n",
    "  y2 = int(box[3] * h)\n",
    "  return [True,x1,y1,x2,y2]"
   ]
  },
  {
   "cell_type": "code",
   "execution_count": 6,
   "id": "700f92ed-03d2-45d2-b9a9-9b73ae0ba22d",
   "metadata": {},
   "outputs": [],
   "source": [
    "import time"
   ]
  },
  {
   "cell_type": "code",
   "execution_count": 8,
   "id": "ba97290e-cc1b-4a5a-87ce-bd90c2bd8125",
   "metadata": {},
   "outputs": [
    {
     "name": "stdout",
     "output_type": "stream",
     "text": [
      "81.66945792005704\n"
     ]
    }
   ],
   "source": [
    "i = 1\n",
    "cap=cv2.VideoCapture(f'videos/test{i}.mp4')\n",
    "#writer=cv2.VideoWriter(f'videos/result_test{i}box_both_6000.avi',  \n",
    "#                    cv2.VideoWriter_fourcc(*'MJPG'), \n",
    " #                    120, (512,512)) \n",
    "n=0\n",
    "t=0\n",
    "while True :\n",
    "    ret,frame=cap.read()\n",
    "    if not ret :\n",
    "      break\n",
    "    tic=time.time()\n",
    "    ret,x1,y1,x2,y2=my_detect(board,frame)\n",
    "    toc=time.time()\n",
    "    n+=1\n",
    "    t+=(toc-tic)\n",
    "    '''if ret :\n",
    "      frame=cv2.rectangle(frame,(x1,y1),(x2,y2),(0,0,255),3)\n",
    "    frame=cv2.resize(frame,(512,512))\n",
    "    #writer.write(frame)'''\n",
    "\n",
    "# print(n/t)\n",
    "#writer.release()\n",
    "if t==0 :\n",
    "    print(i,n,t)\n",
    "    r=input()\n",
    "else :\n",
    "    print(n/t)"
   ]
  },
  {
   "cell_type": "code",
   "execution_count": null,
   "id": "4a7b7e8d-ebd5-4f6d-95d6-f1a2ae86e311",
   "metadata": {},
   "outputs": [],
   "source": []
  }
 ],
 "metadata": {
  "kernelspec": {
   "display_name": "Python 3",
   "language": "python",
   "name": "python3"
  },
  "language_info": {
   "codemirror_mode": {
    "name": "ipython",
    "version": 3
   },
   "file_extension": ".py",
   "mimetype": "text/x-python",
   "name": "python",
   "nbconvert_exporter": "python",
   "pygments_lexer": "ipython3",
   "version": "3.6.9"
  }
 },
 "nbformat": 4,
 "nbformat_minor": 5
}

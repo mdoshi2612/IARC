{
 "cells": [
  {
   "cell_type": "code",
   "execution_count": 1,
   "id": "c35d4d1b-e0f0-4cad-9872-a23fb1f00571",
   "metadata": {},
   "outputs": [],
   "source": [
    "import line_fitting as line"
   ]
  },
  {
   "cell_type": "code",
   "execution_count": 2,
   "id": "143075d4-1428-4edb-ba68-f762e6ab1b50",
   "metadata": {},
   "outputs": [],
   "source": [
    "import matplotlib.pyplot as plt\n",
    "import numpy as np"
   ]
  },
  {
   "cell_type": "code",
   "execution_count": 3,
   "id": "afcf4108-f855-4fc8-adb9-8cb3de177364",
   "metadata": {},
   "outputs": [
    {
     "data": {
      "image/png": "[encoded data removed]",
      "text/plain": [
       "<Figure size 432x288 with 1 Axes>"
      ]
     },
     "metadata": {
      "needs_background": "light"
     },
     "output_type": "display_data"
    }
   ],
   "source": [
    "n = 100\n",
    "max_iterations = 100\n",
    "goal_inliers = n * 0.3\n",
    "\n",
    "xys = np.random.random((n, 2)) * 10\n",
    "xys[:50, 1:] = xys[:50, :1]\n",
    "\n",
    "plt.scatter(xys.T[0], xys.T[1])\n",
    "\n",
    "# RANSAC\n",
    "m, b = line.run_ransac(xys, line.estimate, lambda x, y: line.is_inlier(x, y, 0.01),2, goal_inliers, max_iterations)\n",
    "a, b, c = m\n",
    "plt.plot([0, 10], [-c/b, -(c+10*a)/b], color=(0, 1, 0))\n",
    "\n",
    "plt.show()\n"
   ]
  },
  {
   "cell_type": "code",
   "execution_count": 5,
   "id": "ca52edf5-ba68-4c9a-b2a2-bc122f4f8aa1",
   "metadata": {},
   "outputs": [
    {
     "data": {
      "text/plain": [
       "(100, 2)"
      ]
     },
     "execution_count": 5,
     "metadata": {},
     "output_type": "execute_result"
    }
   ],
   "source": [
    "xys.shape"
   ]
  },
  {
   "cell_type": "code",
   "execution_count": null,
   "id": "817c6668-77b7-40cc-9e1b-eb4ed085c8d8",
   "metadata": {},
   "outputs": [],
   "source": []
  },
  {
   "cell_type": "code",
   "execution_count": null,
   "id": "99d5a934-c1a8-42d1-a9ed-396c32cfcfe2",
   "metadata": {},
   "outputs": [],
   "source": []
  },
  {
   "cell_type": "code",
   "execution_count": null,
   "id": "c03af9a3-7f97-47ac-89a1-4e8d06cc3f67",
   "metadata": {},
   "outputs": [],
   "source": []
  },
  {
   "cell_type": "code",
   "execution_count": null,
   "id": "0061bf59-051a-464c-acef-48533e7582d8",
   "metadata": {},
   "outputs": [],
   "source": []
  },
  {
   "cell_type": "code",
   "execution_count": null,
   "id": "33587ba5-9029-400a-83b0-4201e01b6c55",
   "metadata": {},
   "outputs": [],
   "source": []
  },
  {
   "cell_type": "code",
   "execution_count": 11,
   "id": "290d7e0e-47a8-4d31-adac-3e3ad8365ea8",
   "metadata": {},
   "outputs": [
    {
     "data": {
      "text/plain": [
       "(100, 2)"
      ]
     },
     "execution_count": 11,
     "metadata": {},
     "output_type": "execute_result"
    }
   ],
   "source": [
    "xys.shape"
   ]
  },
  {
   "cell_type": "code",
   "execution_count": 14,
   "id": "641d059e-e6c8-42f2-92cc-9ea1a80256da",
   "metadata": {},
   "outputs": [
    {
     "data": {
      "text/plain": [
       "50"
      ]
     },
     "execution_count": 14,
     "metadata": {},
     "output_type": "execute_result"
    }
   ],
   "source": [
    "x"
   ]
  },
  {
   "cell_type": "code",
   "execution_count": 15,
   "id": "48a67bac-ec05-4cc7-96fc-655df4cb2709",
   "metadata": {},
   "outputs": [
    {
     "data": {
      "text/plain": [
       "[4.3712914285727034e-16, 9.999999999999998]"
      ]
     },
     "execution_count": 15,
     "metadata": {},
     "output_type": "execute_result"
    }
   ],
   "source": [
    "[-c/b, -(c+10*a)/b]"
   ]
  }
 ],
 "metadata": {
  "kernelspec": {
   "display_name": "Python 3",
   "language": "python",
   "name": "python3"
  },
  "language_info": {
   "codemirror_mode": {
    "name": "ipython",
    "version": 3
   },
   "file_extension": ".py",
   "mimetype": "text/x-python",
   "name": "python",
   "nbconvert_exporter": "python",
   "pygments_lexer": "ipython3",
   "version": "3.6.9"
  }
 },
 "nbformat": 4,
 "nbformat_minor": 5
}

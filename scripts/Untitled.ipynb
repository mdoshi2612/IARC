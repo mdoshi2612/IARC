{
 "cells": [
  {
   "cell_type": "code",
   "execution_count": 1,
   "id": "53eb4e70-3398-4c55-85b8-bc3399a7c8ff",
   "metadata": {},
   "outputs": [],
   "source": [
    "import numpy as np"
   ]
  },
  {
   "cell_type": "code",
   "execution_count": 2,
   "id": "d36f0d3f-b7e8-4ee3-96d0-923ab0c79ee1",
   "metadata": {},
   "outputs": [],
   "source": [
    "depth = np.load('depth.npy')"
   ]
  },
  {
   "cell_type": "code",
   "execution_count": 5,
   "id": "47213ea8-e4e8-46ce-910e-28bfa4802e45",
   "metadata": {},
   "outputs": [
    {
     "data": {
      "text/plain": [
       "0.50025576"
      ]
     },
     "execution_count": 5,
     "metadata": {},
     "output_type": "execute_result"
    }
   ],
   "source": [
    "depth.min()"
   ]
  },
  {
   "cell_type": "code",
   "execution_count": 8,
   "id": "4d7b30df-01fa-4ecb-9e1c-41de68039c84",
   "metadata": {},
   "outputs": [
    {
     "data": {
      "text/plain": [
       "dtype('float32')"
      ]
     },
     "execution_count": 8,
     "metadata": {},
     "output_type": "execute_result"
    }
   ],
   "source": [
    "depth.dtype"
   ]
  },
  {
   "cell_type": "code",
   "execution_count": 2,
   "id": "05c84536-203e-48ec-a37d-783f69080394",
   "metadata": {},
   "outputs": [],
   "source": [
    "import tensorflow as tf"
   ]
  },
  {
   "cell_type": "code",
   "execution_count": 3,
   "id": "1f96e85d-482c-40f8-8f33-5b7526ff44a5",
   "metadata": {},
   "outputs": [
    {
     "data": {
      "text/plain": [
       "'2.4.0'"
      ]
     },
     "execution_count": 3,
     "metadata": {},
     "output_type": "execute_result"
    }
   ],
   "source": [
    "tf.__version__"
   ]
  },
  {
   "cell_type": "code",
   "execution_count": 4,
   "id": "33e59c57-f554-4947-afd6-3810c771abb8",
   "metadata": {},
   "outputs": [
    {
     "name": "stdout",
     "output_type": "stream",
     "text": [
      "On GPU:\n",
      "10 loops: 469.79ms\n"
     ]
    }
   ],
   "source": [
    "import time\n",
    "\n",
    "def time_matmul(x):\n",
    "  start = time.time()\n",
    "  for loop in range(100):\n",
    "    tf.matmul(x, x)\n",
    "\n",
    "  result = time.time()-start\n",
    "\n",
    "  print(\"10 loops: {:0.2f}ms\".format(1000*result))\n",
    "\n",
    "# Force execution on CPU\n",
    "'''print(\"On CPU:\")\n",
    "with tf.device(\"CPU:0\"):\n",
    "  x = tf.random.uniform([10000, 10000])\n",
    "  assert x.device.endswith(\"CPU:0\")\n",
    "  time_matmul(x)'''\n",
    "\n",
    "# Force execution on GPU #0 if available\n",
    "if tf.config.list_physical_devices(\"GPU\"):\n",
    "  print(\"On GPU:\")\n",
    "  with tf.device(\"GPU:0\"): # Or GPU:1 for the 2nd GPU, GPU:2 for the 3rd etc.\n",
    "    x = tf.random.uniform([10000, 10000])\n",
    "    assert x.device.endswith(\"GPU:0\")\n",
    "    time_matmul(x)"
   ]
  },
  {
   "cell_type": "code",
   "execution_count": 7,
   "id": "d66ee96f-0128-4dd1-9818-262982944e7e",
   "metadata": {},
   "outputs": [
    {
     "ename": "NameError",
     "evalue": "name 'x' is not defined",
     "output_type": "error",
     "traceback": [
      "\u001b[0;31m---------------------------------------------------------------------------\u001b[0m",
      "\u001b[0;31mNameError\u001b[0m                                 Traceback (most recent call last)",
      "\u001b[0;32m<ipython-input-7-52e2ca59f643>\u001b[0m in \u001b[0;36m<module>\u001b[0;34m\u001b[0m\n\u001b[0;32m----> 1\u001b[0;31m \u001b[0;32mdel\u001b[0m \u001b[0mx\u001b[0m\u001b[0;34m\u001b[0m\u001b[0;34m\u001b[0m\u001b[0m\n\u001b[0m",
      "\u001b[0;31mNameError\u001b[0m: name 'x' is not defined"
     ]
    }
   ],
   "source": [
    "del x"
   ]
  },
  {
   "cell_type": "code",
   "execution_count": 9,
   "id": "0fde850f-86d1-4bc0-aef1-21d811b63d35",
   "metadata": {},
   "outputs": [],
   "source": [
    "import tensorflow.keras.backend as K"
   ]
  },
  {
   "cell_type": "code",
   "execution_count": 10,
   "id": "79311154-2504-409f-ba91-cce0c052578f",
   "metadata": {},
   "outputs": [],
   "source": [
    "K.clear_session()"
   ]
  }
 ],
 "metadata": {
  "kernelspec": {
   "display_name": "Python 3",
   "language": "python",
   "name": "python3"
  },
  "language_info": {
   "codemirror_mode": {
    "name": "ipython",
    "version": 3
   },
   "file_extension": ".py",
   "mimetype": "text/x-python",
   "name": "python",
   "nbconvert_exporter": "python",
   "pygments_lexer": "ipython3",
   "version": "3.6.9"
  }
 },
 "nbformat": 4,
 "nbformat_minor": 5
}

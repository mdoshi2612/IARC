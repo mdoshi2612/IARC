{
 "cells": [
  {
   "cell_type": "code",
   "execution_count": 1,
   "id": "485e5e81-3b22-4b83-b0d4-ebc7ba4e321e",
   "metadata": {},
   "outputs": [],
   "source": [
    "import detection as dect\n",
    "import plane_fitting as plane\n",
    "import transformation as trans\n",
    "import argparse\n",
    "import detection_yolo as yolo\n",
    "import line_fitting as line"
   ]
  },
  {
   "cell_type": "code",
   "execution_count": 2,
   "id": "cf8b7a32-f7dd-4d24-85da-1f5d9bebc3a9",
   "metadata": {},
   "outputs": [],
   "source": [
    "import cv2\n",
    "import numpy as np\n",
    "import matplotlib.pyplot as plt"
   ]
  },
  {
   "cell_type": "code",
   "execution_count": 3,
   "id": "778927a6-057a-4e4d-9090-f2d18bb88bab",
   "metadata": {},
   "outputs": [],
   "source": [
    "depth = np.load('drone_img/depth/depth_camera_image0.npy')"
   ]
  },
  {
   "cell_type": "code",
   "execution_count": 4,
   "id": "dfa763c0-bfcf-4730-a927-5a81e49450a9",
   "metadata": {},
   "outputs": [],
   "source": [
    "rgb = cv2.imread('drone_img/rgb/rgb_camera_image1.jpeg')"
   ]
  },
  {
   "cell_type": "code",
   "execution_count": 5,
   "id": "7c15616f-4eb0-415f-8e3d-00ee91fe40e2",
   "metadata": {},
   "outputs": [],
   "source": [
    "img_mask = dect.color_threshold(rgb)\n",
    "thresh, close, image, center = dect.final_detection(rgb.copy(), img_mask)"
   ]
  },
  {
   "cell_type": "code",
   "execution_count": 6,
   "id": "8b5eb77a-3c37-4867-a431-4c5f0a80b729",
   "metadata": {},
   "outputs": [
    {
     "data": {
      "text/plain": [
       "[[386, 121]]"
      ]
     },
     "execution_count": 6,
     "metadata": {},
     "output_type": "execute_result"
    }
   ],
   "source": [
    "center"
   ]
  },
  {
   "cell_type": "code",
   "execution_count": null,
   "id": "98058d2c-e3d0-4c6a-954d-0ce8a2f1e62d",
   "metadata": {},
   "outputs": [],
   "source": []
  },
  {
   "cell_type": "code",
   "execution_count": 7,
   "id": "e318c32b-6a70-49a0-950f-8720d1d9c79e",
   "metadata": {},
   "outputs": [],
   "source": [
    "center = np.array(center)"
   ]
  },
  {
   "cell_type": "code",
   "execution_count": 8,
   "id": "8c7d65e4-9d99-498c-a543-997231328b0d",
   "metadata": {},
   "outputs": [],
   "source": [
    "Fx = 1131.2017905548394\n",
    "Fy = Fx\n",
    "k = 10\n",
    "center_depth = np.array(center*360/480, dtype = int)\n",
    "data = depth[center_depth[0,1]-k:center_depth[0,1]+k +1,center_depth[0,0]-k:center_depth[0,0]+k+1]\n",
    "A = np.arange((2*k)+1)\n",
    "A = A-k\n",
    "x = []\n",
    "for i in range ((2*k)+1):\n",
    "    x.append(A)\n",
    "x = np.array(x)*(-1)\n",
    "y = (x.T)\n",
    "x = x/Fx\n",
    "y = y/Fy\n",
    "x = x*data\n",
    "y = y*data"
   ]
  },
  {
   "cell_type": "code",
   "execution_count": 33,
   "id": "04ef276f-c03e-46a7-97ea-7d798bce12c5",
   "metadata": {},
   "outputs": [],
   "source": [
    "points = []\n",
    "points_sense = []\n",
    "points.append(x)\n",
    "points.append(y)\n",
    "points.append(data)\n",
    "points = np.array(points)\n",
    "points_sense.append(y)\n",
    "points_sense.append(data)\n",
    "points_sense = np.array(points_sense)\n",
    "points_sense = np.array(points_sense[:,8:12,:], dtype= int)\n",
    "points_sense = np.reshape(points_sense, (2, points_sense.shape[1]*points_sense.shape[2]))\n",
    "pc = np.reshape(points, (3,((2*k)+1)**2))\n",
    "pc = pc.T"
   ]
  },
  {
   "cell_type": "code",
   "execution_count": 34,
   "id": "49a36349-cc9e-42e5-9a88-5ae4cb56939c",
   "metadata": {},
   "outputs": [
    {
     "data": {
      "text/plain": [
       "(2, 84)"
      ]
     },
     "execution_count": 34,
     "metadata": {},
     "output_type": "execute_result"
    }
   ],
   "source": [
    "points_sense.shape"
   ]
  },
  {
   "cell_type": "code",
   "execution_count": 35,
   "id": "d294b90b-e821-402f-8327-966d7ab55190",
   "metadata": {},
   "outputs": [],
   "source": [
    "#points_sense = np.reshape(points_sense, (2, 4*21))\n"
   ]
  },
  {
   "cell_type": "code",
   "execution_count": null,
   "id": "47acbe33-ee18-4754-a436-a548e7f7f5e2",
   "metadata": {},
   "outputs": [],
   "source": []
  },
  {
   "cell_type": "code",
   "execution_count": 37,
   "id": "39593410-e0a4-4578-b761-f81f32a93d03",
   "metadata": {},
   "outputs": [],
   "source": [
    "import line_fitting as line\n",
    "import matplotlib.pyplot as plt\n",
    "import numpy as np"
   ]
  },
  {
   "cell_type": "code",
   "execution_count": 38,
   "id": "9b31e445-f21c-4c98-8ddf-d6e0d9d4ea0d",
   "metadata": {},
   "outputs": [],
   "source": [
    "n = 100\n",
    "max_iterations = 100\n",
    "goal_inliers = n * 0.3"
   ]
  },
  {
   "cell_type": "code",
   "execution_count": 39,
   "id": "8af8db8c-ccc2-4a18-8ab2-4c96141a4039",
   "metadata": {},
   "outputs": [
    {
     "data": {
      "text/plain": [
       "<matplotlib.collections.PathCollection at 0x7fd12c91ecf8>"
      ]
     },
     "execution_count": 39,
     "metadata": {},
     "output_type": "execute_result"
    },
    {
     "data": {
      "image/png": "[encoded data removed]",
      "text/plain": [
       "<Figure size 432x288 with 1 Axes>"
      ]
     },
     "metadata": {
      "needs_background": "light"
     },
     "output_type": "display_data"
    }
   ],
   "source": [
    "plt.scatter(points_sense[0], points_sense[1])"
   ]
  },
  {
   "cell_type": "code",
   "execution_count": 41,
   "id": "6563ef8e-1138-43ac-9689-d711ef70a4e5",
   "metadata": {},
   "outputs": [
    {
     "data": {
      "image/png": "[encoded data removed]",
      "text/plain": [
       "<Figure size 432x288 with 1 Axes>"
      ]
     },
     "metadata": {
      "needs_background": "light"
     },
     "output_type": "display_data"
    }
   ],
   "source": [
    "m, b = line.run_ransac(points_sense.T, line.estimate, lambda x, y: line.is_inlier(x, y, 0.01),2, goal_inliers, max_iterations)\n",
    "a, b, c = m\n",
    "plt.plot([0, 10], [-c/b, -(c+10*a)/b], color=(0, 1, 0))\n",
    "\n",
    "plt.show()"
   ]
  },
  {
   "cell_type": "code",
   "execution_count": 46,
   "id": "b2e0b146-0917-48ad-bd83-71086e0185d9",
   "metadata": {},
   "outputs": [
    {
     "data": {
      "text/plain": [
       "0.9999997370692981"
      ]
     },
     "execution_count": 46,
     "metadata": {},
     "output_type": "execute_result"
    }
   ],
   "source": [
    "c"
   ]
  },
  {
   "cell_type": "code",
   "execution_count": null,
   "id": "d6d4d834-b9f8-4842-8454-53585d422351",
   "metadata": {},
   "outputs": [],
   "source": []
  },
  {
   "cell_type": "code",
   "execution_count": null,
   "id": "b4f7f044-9041-4565-b0ca-78557cf27149",
   "metadata": {},
   "outputs": [],
   "source": []
  }
 ],
 "metadata": {
  "kernelspec": {
   "display_name": "Python 3",
   "language": "python",
   "name": "python3"
  },
  "language_info": {
   "codemirror_mode": {
    "name": "ipython",
    "version": 3
   },
   "file_extension": ".py",
   "mimetype": "text/x-python",
   "name": "python",
   "nbconvert_exporter": "python",
   "pygments_lexer": "ipython3",
   "version": "3.6.9"
  }
 },
 "nbformat": 4,
 "nbformat_minor": 5
}

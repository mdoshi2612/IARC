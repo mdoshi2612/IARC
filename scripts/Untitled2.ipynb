{
 "cells": [
  {
   "cell_type": "code",
   "execution_count": 77,
   "id": "b3d47b2b-853f-460a-b11e-78cff6e28b3f",
   "metadata": {},
   "outputs": [],
   "source": [
    "import numpy as np\n",
    "np.set_printoptions(threshold=np.inf)"
   ]
  },
  {
   "cell_type": "code",
   "execution_count": 78,
   "id": "3d42e2c3-bd6f-4387-8301-05af2c44061c",
   "metadata": {},
   "outputs": [],
   "source": [
    "p = np.load('points.npy')\n",
    "d = np.load('depth.npy')\n",
    "c = np.load('center.npy')"
   ]
  },
  {
   "cell_type": "code",
   "execution_count": 82,
   "id": "36be1365-cc58-42af-9146-858bcbcf56a6",
   "metadata": {},
   "outputs": [],
   "source": [
    "pc = np.load('pc.npy')"
   ]
  },
  {
   "cell_type": "code",
   "execution_count": 83,
   "id": "92fc1ced-2f71-4b9c-aad2-cbd80e880659",
   "metadata": {},
   "outputs": [],
   "source": [
    "import matplotlib.pyplot as plt"
   ]
  },
  {
   "cell_type": "code",
   "execution_count": 84,
   "id": "0bada589-20e1-49fc-9935-763118cb84ad",
   "metadata": {},
   "outputs": [
    {
     "data": {
      "image/png": "[encoded data removed]",
      "text/plain": [
       "<Figure size 432x288 with 1 Axes>"
      ]
     },
     "metadata": {
      "needs_background": "light"
     },
     "output_type": "display_data"
    }
   ],
   "source": [
    "fig = plt.figure()\n",
    "ax = plt.axes(projection='3d')\n",
    "\n",
    "\n",
    "ax.scatter(pc.T[0], pc.T[1], pc.T[2], color = 'gray')\n",
    "plt.show()"
   ]
  },
  {
   "cell_type": "code",
   "execution_count": null,
   "id": "dde7f011-498f-4706-a8d3-c1fb8e779e42",
   "metadata": {},
   "outputs": [],
   "source": []
  },
  {
   "cell_type": "code",
   "execution_count": 74,
   "id": "61d32458-f114-437b-a35c-f3024a348786",
   "metadata": {},
   "outputs": [
    {
     "data": {
      "text/plain": [
       "360.0"
      ]
     },
     "execution_count": 74,
     "metadata": {},
     "output_type": "execute_result"
    }
   ],
   "source": [
    "720/2"
   ]
  },
  {
   "cell_type": "code",
   "execution_count": 76,
   "id": "e3f60d06-c29d-4f4a-94b0-61c8b317b3a8",
   "metadata": {},
   "outputs": [
    {
     "data": {
      "text/plain": [
       "(719, 1279)"
      ]
     },
     "execution_count": 76,
     "metadata": {},
     "output_type": "execute_result"
    }
   ],
   "source": [
    "d[1:,1:].shape"
   ]
  },
  {
   "cell_type": "code",
   "execution_count": 51,
   "id": "9a85dfde-3d94-4ee4-8f30-bb71d2b1616e",
   "metadata": {},
   "outputs": [],
   "source": [
    "center_depth = np.array(c, dtype = int)\n",
    "ky = 3\n",
    "kx = 5"
   ]
  },
  {
   "cell_type": "code",
   "execution_count": 52,
   "id": "f6bcb35b-5985-4b45-a639-1c94bd327e6c",
   "metadata": {},
   "outputs": [],
   "source": [
    "data = d[center_depth[1]-ky:center_depth[1]+ky +1,center_depth[0]-kx:center_depth[0]+kx+1]"
   ]
  },
  {
   "cell_type": "code",
   "execution_count": 53,
   "id": "3c209579-2995-4786-9a47-ac8c8302450d",
   "metadata": {},
   "outputs": [
    {
     "data": {
      "text/plain": [
       "(7, 11)"
      ]
     },
     "execution_count": 53,
     "metadata": {},
     "output_type": "execute_result"
    }
   ],
   "source": [
    "data.shape"
   ]
  },
  {
   "cell_type": "code",
   "execution_count": 56,
   "id": "fd9a2062-e9d6-43da-b67b-4b289932e474",
   "metadata": {},
   "outputs": [
    {
     "data": {
      "text/plain": [
       "(7, 11)"
      ]
     },
     "execution_count": 56,
     "metadata": {},
     "output_type": "execute_result"
    }
   ],
   "source": [
    "(np.array(p[0,:,:], dtype = int)*data).shape"
   ]
  },
  {
   "cell_type": "code",
   "execution_count": 35,
   "id": "68943012-a9b5-43e1-8a0f-8cbee3bf1fd6",
   "metadata": {},
   "outputs": [
    {
     "data": {
      "text/plain": [
       "array([[ 3,  3,  3,  3,  3,  3,  3,  3,  3,  3,  3],\n",
       "       [ 2,  2,  2,  2,  2,  2,  2,  2,  2,  2,  2],\n",
       "       [ 1,  1,  1,  1,  1,  1,  1,  1,  1,  1,  1],\n",
       "       [ 0,  0,  0,  0,  0,  0,  0,  0,  0,  0,  0],\n",
       "       [-1, -1, -1, -1, -1, -1, -1, -1, -1, -1, -1],\n",
       "       [-2, -2, -2, -2, -2, -2, -2, -2, -2, -2, -2],\n",
       "       [-3, -3, -3, -3, -3, -3, -3, -3, -3, -3, -3]])"
      ]
     },
     "execution_count": 35,
     "metadata": {},
     "output_type": "execute_result"
    }
   ],
   "source": [
    "np.array(p[1,:,:], dtype = int)"
   ]
  },
  {
   "cell_type": "code",
   "execution_count": 37,
   "id": "e9b96841-8e23-499a-8e5e-4761630e6648",
   "metadata": {},
   "outputs": [
    {
     "data": {
      "text/plain": [
       "array([[4.65455914, 4.65736437, 4.66017246, 4.66298437, 4.66579962,\n",
       "        4.6686182 , 4.67144012, 4.67426538, 4.67709446, 4.67992687,\n",
       "        4.68276262],\n",
       "       [4.65455437, 4.6573596 , 4.66016769, 4.6629796 , 4.66579485,\n",
       "        4.66861343, 4.67143536, 4.67426109, 4.67709017, 4.6799221 ,\n",
       "        4.68275785],\n",
       "       [4.6545496 , 4.65735483, 4.6601634 , 4.66297483, 4.66579056,\n",
       "        4.66860914, 4.67143106, 4.67425632, 4.6770854 , 4.67991781,\n",
       "        4.68275356],\n",
       "       [4.65454531, 4.65735006, 4.66015863, 4.66297054, 4.66578579,\n",
       "        4.66860437, 4.6714263 , 4.67425203, 4.67708111, 4.67991304,\n",
       "        4.68274879],\n",
       "       [4.65454054, 4.65734577, 4.66015434, 4.66296625, 4.6657815 ,\n",
       "        4.66860008, 4.671422  , 4.67424726, 4.67707634, 4.67990875,\n",
       "        4.6827445 ],\n",
       "       [4.65453625, 4.65734148, 4.66014957, 4.66296148, 4.66577673,\n",
       "        4.66859531, 4.67141771, 4.67424297, 4.67707205, 4.67990398,\n",
       "        4.68273973],\n",
       "       [4.65453196, 4.65733671, 4.66014528, 4.66295719, 4.66577244,\n",
       "        4.66859102, 4.67141294, 4.67423868, 4.67706728, 4.67989969,\n",
       "        4.68273544]])"
      ]
     },
     "execution_count": 37,
     "metadata": {},
     "output_type": "execute_result"
    }
   ],
   "source": [
    "np.array(p[2,:,:], dtype = float)"
   ]
  },
  {
   "cell_type": "code",
   "execution_count": 11,
   "id": "ee3dc6c9-c2ea-4c2e-8d5b-94fa9412fb5f",
   "metadata": {},
   "outputs": [
    {
     "data": {
      "text/plain": [
       "array([[[701.        , 448.        ,   4.75892496],\n",
       "        [700.        , 448.        ,   4.75893116],\n",
       "        [699.        , 448.        ,   4.75893688],\n",
       "        [698.        , 448.        ,   4.7589426 ],\n",
       "        [697.        , 448.        ,   4.7589488 ],\n",
       "        [696.        , 448.        ,   4.75895452],\n",
       "        [695.        , 448.        ,   4.75896025],\n",
       "        [694.        , 448.        ,   4.75896645],\n",
       "        [693.        , 448.        ,   4.75897217],\n",
       "        [692.        , 448.        ,   4.75897789],\n",
       "        [691.        , 448.        ,   4.75898409]],\n",
       "\n",
       "       [[701.        , 447.        ,   4.76183605],\n",
       "        [700.        , 447.        ,   4.76184225],\n",
       "        [699.        , 447.        ,   4.76184797],\n",
       "        [698.        , 447.        ,   4.76185369],\n",
       "        [697.        , 447.        ,   4.76185989],\n",
       "        [696.        , 447.        ,   4.76186562],\n",
       "        [695.        , 447.        ,   4.76187134],\n",
       "        [694.        , 447.        ,   4.76187754],\n",
       "        [693.        , 447.        ,   4.76188326],\n",
       "        [692.        , 447.        ,   4.76188898],\n",
       "        [691.        , 447.        ,   4.76189518]],\n",
       "\n",
       "       [[701.        , 446.        ,   4.76475096],\n",
       "        [700.        , 446.        ,   4.76475668],\n",
       "        [699.        , 446.        ,   4.7647624 ],\n",
       "        [698.        , 446.        ,   4.7647686 ],\n",
       "        [697.        , 446.        ,   4.76477432],\n",
       "        [696.        , 446.        ,   4.76478052],\n",
       "        [695.        , 446.        ,   4.76478624],\n",
       "        [694.        , 446.        ,   4.76479197],\n",
       "        [693.        , 446.        ,   4.76479816],\n",
       "        [692.        , 446.        ,   4.76480389],\n",
       "        [691.        , 446.        ,   4.76480961]],\n",
       "\n",
       "       [[701.        , 445.        ,   4.76766872],\n",
       "        [700.        , 445.        ,   4.76767492],\n",
       "        [699.        , 445.        ,   4.76768064],\n",
       "        [698.        , 445.        ,   4.76768684],\n",
       "        [697.        , 445.        ,   4.76769257],\n",
       "        [696.        , 445.        ,   4.76769829],\n",
       "        [695.        , 445.        ,   4.76770449],\n",
       "        [694.        , 445.        ,   4.76771021],\n",
       "        [693.        , 445.        ,   4.76771641],\n",
       "        [692.        , 445.        ,   4.76772213],\n",
       "        [691.        , 445.        ,   4.76772785]],\n",
       "\n",
       "       [[701.        , 444.        ,   4.77059078],\n",
       "        [700.        , 444.        ,   4.7705965 ],\n",
       "        [699.        , 444.        ,   4.7706027 ],\n",
       "        [698.        , 444.        ,   4.77060843],\n",
       "        [697.        , 444.        ,   4.77061462],\n",
       "        [696.        , 444.        ,   4.77062035],\n",
       "        [695.        , 444.        ,   4.77062607],\n",
       "        [694.        , 444.        ,   4.77063227],\n",
       "        [693.        , 444.        ,   4.77063799],\n",
       "        [692.        , 444.        ,   4.77064371],\n",
       "        [691.        , 444.        ,   4.77064991]],\n",
       "\n",
       "       [[701.        , 443.        ,   4.77351618],\n",
       "        [700.        , 443.        ,   4.7735219 ],\n",
       "        [699.        , 443.        ,   4.7735281 ],\n",
       "        [698.        , 443.        ,   4.77353382],\n",
       "        [697.        , 443.        ,   4.77353954],\n",
       "        [696.        , 443.        ,   4.77354574],\n",
       "        [695.        , 443.        ,   4.77355146],\n",
       "        [694.        , 443.        ,   4.77355766],\n",
       "        [693.        , 443.        ,   4.77356339],\n",
       "        [692.        , 443.        ,   4.77356911],\n",
       "        [691.        , 443.        ,   4.77357531]],\n",
       "\n",
       "       [[701.        , 442.        ,   4.77644491],\n",
       "        [700.        , 442.        ,   4.77645111],\n",
       "        [699.        , 442.        ,   4.77645683],\n",
       "        [698.        , 442.        ,   4.77646255],\n",
       "        [697.        , 442.        ,   4.77646875],\n",
       "        [696.        , 442.        ,   4.77647448],\n",
       "        [695.        , 442.        ,   4.77648067],\n",
       "        [694.        , 442.        ,   4.7764864 ],\n",
       "        [693.        , 442.        ,   4.7764926 ],\n",
       "        [692.        , 442.        ,   4.77649832],\n",
       "        [691.        , 442.        ,   4.77650404]]])"
      ]
     },
     "execution_count": 11,
     "metadata": {},
     "output_type": "execute_result"
    }
   ],
   "source": [
    "p.T"
   ]
  }
 ],
 "metadata": {
  "kernelspec": {
   "display_name": "Python 3",
   "language": "python",
   "name": "python3"
  },
  "language_info": {
   "codemirror_mode": {
    "name": "ipython",
    "version": 3
   },
   "file_extension": ".py",
   "mimetype": "text/x-python",
   "name": "python",
   "nbconvert_exporter": "python",
   "pygments_lexer": "ipython3",
   "version": "3.6.9"
  }
 },
 "nbformat": 4,
 "nbformat_minor": 5
}

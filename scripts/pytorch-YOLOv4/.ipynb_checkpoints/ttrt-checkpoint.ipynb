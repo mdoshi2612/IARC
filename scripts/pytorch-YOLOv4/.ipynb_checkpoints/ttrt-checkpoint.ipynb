{
 "cells": [
  {
   "cell_type": "code",
   "execution_count": 1,
   "id": "c46349a7-41c8-4d99-b65c-ff7e67b740c4",
   "metadata": {},
   "outputs": [],
   "source": [
    "cfg = '../cfg/custom-yolov4-detector.cfg'\n",
    "wt = '../backup/custom-yolov4-detector_4000.weights'\n",
    "#whatever"
   ]
  },
  {
   "cell_type": "code",
   "execution_count": 2,
   "id": "0b749b5d-7b96-4d84-8073-ae68553ff96d",
   "metadata": {},
   "outputs": [
    {
     "data": {
      "text/plain": [
       "True"
      ]
     },
     "execution_count": 2,
     "metadata": {},
     "output_type": "execute_result"
    }
   ],
   "source": [
    "# import torch\n",
    "import numpy as np\n",
    "x = np.ones((416, 416, 3))\n",
    "import cv2\n",
    "cv2.imwrite('hmm.png', x)"
   ]
  },
  {
   "cell_type": "code",
   "execution_count": 3,
   "id": "9ec157f8-7d35-4b10-92d2-e8f545023f4f",
   "metadata": {},
   "outputs": [
    {
     "name": "stderr",
     "output_type": "stream",
     "text": [
      "/usr/local/lib/python3.8/dist-packages/tqdm/auto.py:22: TqdmWarning: IProgress not found. Please update jupyter and ipywidgets. See https://ipywidgets.readthedocs.io/en/stable/user_install.html\n",
      "  from .autonotebook import tqdm as notebook_tqdm\n"
     ]
    }
   ],
   "source": [
    "import demo_darknet2onnx as d"
   ]
  },
  {
   "cell_type": "code",
   "execution_count": 4,
   "id": "bf2ac050-56f7-4b88-9122-b6d008488337",
   "metadata": {
    "collapsed": true,
    "jupyter": {
     "outputs_hidden": true
    },
    "tags": []
   },
   "outputs": [
    {
     "name": "stdout",
     "output_type": "stream",
     "text": [
      "layer     filters    size              input                output\n",
      "    0 conv     32  3 x 3 / 1   416 x 416 x   3   ->   416 x 416 x  32\n",
      "    1 conv     64  3 x 3 / 2   416 x 416 x  32   ->   208 x 208 x  64\n",
      "    2 conv     64  1 x 1 / 1   208 x 208 x  64   ->   208 x 208 x  64\n",
      "    3 route  1\n",
      "    4 conv     64  1 x 1 / 1   208 x 208 x  64   ->   208 x 208 x  64\n",
      "    5 conv     32  1 x 1 / 1   208 x 208 x  64   ->   208 x 208 x  32\n",
      "    6 conv     64  3 x 3 / 1   208 x 208 x  32   ->   208 x 208 x  64\n",
      "    7 shortcut 4\n",
      "    8 conv     64  1 x 1 / 1   208 x 208 x  64   ->   208 x 208 x  64\n",
      "    9 route  8 2\n",
      "   10 conv     64  1 x 1 / 1   208 x 208 x 128   ->   208 x 208 x  64\n",
      "   11 conv    128  3 x 3 / 2   208 x 208 x  64   ->   104 x 104 x 128\n",
      "   12 conv     64  1 x 1 / 1   104 x 104 x 128   ->   104 x 104 x  64\n",
      "   13 route  11\n",
      "   14 conv     64  1 x 1 / 1   104 x 104 x 128   ->   104 x 104 x  64\n",
      "   15 conv     64  1 x 1 / 1   104 x 104 x  64   ->   104 x 104 x  64\n",
      "   16 conv     64  3 x 3 / 1   104 x 104 x  64   ->   104 x 104 x  64\n",
      "   17 shortcut 14\n",
      "   18 conv     64  1 x 1 / 1   104 x 104 x  64   ->   104 x 104 x  64\n",
      "   19 conv     64  3 x 3 / 1   104 x 104 x  64   ->   104 x 104 x  64\n",
      "   20 shortcut 17\n",
      "   21 conv     64  1 x 1 / 1   104 x 104 x  64   ->   104 x 104 x  64\n",
      "   22 route  21 12\n",
      "   23 conv    128  1 x 1 / 1   104 x 104 x 128   ->   104 x 104 x 128\n",
      "   24 conv    256  3 x 3 / 2   104 x 104 x 128   ->    52 x  52 x 256\n",
      "   25 conv    128  1 x 1 / 1    52 x  52 x 256   ->    52 x  52 x 128\n",
      "   26 route  24\n",
      "   27 conv    128  1 x 1 / 1    52 x  52 x 256   ->    52 x  52 x 128\n",
      "   28 conv    128  1 x 1 / 1    52 x  52 x 128   ->    52 x  52 x 128\n",
      "   29 conv    128  3 x 3 / 1    52 x  52 x 128   ->    52 x  52 x 128\n",
      "   30 shortcut 27\n",
      "   31 conv    128  1 x 1 / 1    52 x  52 x 128   ->    52 x  52 x 128\n",
      "   32 conv    128  3 x 3 / 1    52 x  52 x 128   ->    52 x  52 x 128\n",
      "   33 shortcut 30\n",
      "   34 conv    128  1 x 1 / 1    52 x  52 x 128   ->    52 x  52 x 128\n",
      "   35 conv    128  3 x 3 / 1    52 x  52 x 128   ->    52 x  52 x 128\n",
      "   36 shortcut 33\n",
      "   37 conv    128  1 x 1 / 1    52 x  52 x 128   ->    52 x  52 x 128\n",
      "   38 conv    128  3 x 3 / 1    52 x  52 x 128   ->    52 x  52 x 128\n",
      "   39 shortcut 36\n",
      "   40 conv    128  1 x 1 / 1    52 x  52 x 128   ->    52 x  52 x 128\n",
      "   41 conv    128  3 x 3 / 1    52 x  52 x 128   ->    52 x  52 x 128\n",
      "   42 shortcut 39\n",
      "   43 conv    128  1 x 1 / 1    52 x  52 x 128   ->    52 x  52 x 128\n",
      "   44 conv    128  3 x 3 / 1    52 x  52 x 128   ->    52 x  52 x 128\n",
      "   45 shortcut 42\n",
      "   46 conv    128  1 x 1 / 1    52 x  52 x 128   ->    52 x  52 x 128\n",
      "   47 conv    128  3 x 3 / 1    52 x  52 x 128   ->    52 x  52 x 128\n",
      "   48 shortcut 45\n",
      "   49 conv    128  1 x 1 / 1    52 x  52 x 128   ->    52 x  52 x 128\n",
      "   50 conv    128  3 x 3 / 1    52 x  52 x 128   ->    52 x  52 x 128\n",
      "   51 shortcut 48\n",
      "   52 conv    128  1 x 1 / 1    52 x  52 x 128   ->    52 x  52 x 128\n",
      "   53 route  52 25\n",
      "   54 conv    256  1 x 1 / 1    52 x  52 x 256   ->    52 x  52 x 256\n",
      "   55 conv    512  3 x 3 / 2    52 x  52 x 256   ->    26 x  26 x 512\n",
      "   56 conv    256  1 x 1 / 1    26 x  26 x 512   ->    26 x  26 x 256\n",
      "   57 route  55\n",
      "   58 conv    256  1 x 1 / 1    26 x  26 x 512   ->    26 x  26 x 256\n",
      "   59 conv    256  1 x 1 / 1    26 x  26 x 256   ->    26 x  26 x 256\n",
      "   60 conv    256  3 x 3 / 1    26 x  26 x 256   ->    26 x  26 x 256\n",
      "   61 shortcut 58\n",
      "   62 conv    256  1 x 1 / 1    26 x  26 x 256   ->    26 x  26 x 256\n",
      "   63 conv    256  3 x 3 / 1    26 x  26 x 256   ->    26 x  26 x 256\n",
      "   64 shortcut 61\n",
      "   65 conv    256  1 x 1 / 1    26 x  26 x 256   ->    26 x  26 x 256\n",
      "   66 conv    256  3 x 3 / 1    26 x  26 x 256   ->    26 x  26 x 256\n",
      "   67 shortcut 64\n",
      "   68 conv    256  1 x 1 / 1    26 x  26 x 256   ->    26 x  26 x 256\n",
      "   69 conv    256  3 x 3 / 1    26 x  26 x 256   ->    26 x  26 x 256\n",
      "   70 shortcut 67\n",
      "   71 conv    256  1 x 1 / 1    26 x  26 x 256   ->    26 x  26 x 256\n",
      "   72 conv    256  3 x 3 / 1    26 x  26 x 256   ->    26 x  26 x 256\n",
      "   73 shortcut 70\n",
      "   74 conv    256  1 x 1 / 1    26 x  26 x 256   ->    26 x  26 x 256\n",
      "   75 conv    256  3 x 3 / 1    26 x  26 x 256   ->    26 x  26 x 256\n",
      "   76 shortcut 73\n",
      "   77 conv    256  1 x 1 / 1    26 x  26 x 256   ->    26 x  26 x 256\n",
      "   78 conv    256  3 x 3 / 1    26 x  26 x 256   ->    26 x  26 x 256\n",
      "   79 shortcut 76\n",
      "   80 conv    256  1 x 1 / 1    26 x  26 x 256   ->    26 x  26 x 256\n",
      "   81 conv    256  3 x 3 / 1    26 x  26 x 256   ->    26 x  26 x 256\n",
      "   82 shortcut 79\n",
      "   83 conv    256  1 x 1 / 1    26 x  26 x 256   ->    26 x  26 x 256\n",
      "   84 route  83 56\n",
      "   85 conv    512  1 x 1 / 1    26 x  26 x 512   ->    26 x  26 x 512\n",
      "   86 conv   1024  3 x 3 / 2    26 x  26 x 512   ->    13 x  13 x1024\n",
      "   87 conv    512  1 x 1 / 1    13 x  13 x1024   ->    13 x  13 x 512\n",
      "   88 route  86\n",
      "   89 conv    512  1 x 1 / 1    13 x  13 x1024   ->    13 x  13 x 512\n",
      "   90 conv    512  1 x 1 / 1    13 x  13 x 512   ->    13 x  13 x 512\n",
      "   91 conv    512  3 x 3 / 1    13 x  13 x 512   ->    13 x  13 x 512\n",
      "   92 shortcut 89\n",
      "   93 conv    512  1 x 1 / 1    13 x  13 x 512   ->    13 x  13 x 512\n",
      "   94 conv    512  3 x 3 / 1    13 x  13 x 512   ->    13 x  13 x 512\n",
      "   95 shortcut 92\n",
      "   96 conv    512  1 x 1 / 1    13 x  13 x 512   ->    13 x  13 x 512\n",
      "   97 conv    512  3 x 3 / 1    13 x  13 x 512   ->    13 x  13 x 512\n",
      "   98 shortcut 95\n",
      "   99 conv    512  1 x 1 / 1    13 x  13 x 512   ->    13 x  13 x 512\n",
      "  100 conv    512  3 x 3 / 1    13 x  13 x 512   ->    13 x  13 x 512\n",
      "  101 shortcut 98\n",
      "  102 conv    512  1 x 1 / 1    13 x  13 x 512   ->    13 x  13 x 512\n",
      "  103 route  102 87\n",
      "  104 conv   1024  1 x 1 / 1    13 x  13 x1024   ->    13 x  13 x1024\n",
      "  105 conv    512  1 x 1 / 1    13 x  13 x1024   ->    13 x  13 x 512\n",
      "  106 conv   1024  3 x 3 / 1    13 x  13 x 512   ->    13 x  13 x1024\n",
      "  107 conv    512  1 x 1 / 1    13 x  13 x1024   ->    13 x  13 x 512\n",
      "  108 max          5 x 5 / 1    13 x  13 x 512   ->    13 x  13 x 512\n",
      "  109 route  107\n",
      "  110 max          9 x 9 / 1    13 x  13 x 512   ->    13 x  13 x 512\n",
      "  111 route  107\n",
      "  112 max          13 x 13 / 1    13 x  13 x 512   ->    13 x  13 x 512\n",
      "  113 route  112 110 108 107\n",
      "  114 conv    512  1 x 1 / 1    13 x  13 x2048   ->    13 x  13 x 512\n",
      "  115 conv   1024  3 x 3 / 1    13 x  13 x 512   ->    13 x  13 x1024\n",
      "  116 conv    512  1 x 1 / 1    13 x  13 x1024   ->    13 x  13 x 512\n",
      "  117 conv    256  1 x 1 / 1    13 x  13 x 512   ->    13 x  13 x 256\n",
      "  118 upsample           * 2    13 x  13 x 256   ->    26 x  26 x 256\n",
      "  119 route  85\n",
      "  120 conv    256  1 x 1 / 1    26 x  26 x 512   ->    26 x  26 x 256\n",
      "  121 route  120 118\n",
      "  122 conv    256  1 x 1 / 1    26 x  26 x 512   ->    26 x  26 x 256\n",
      "  123 conv    512  3 x 3 / 1    26 x  26 x 256   ->    26 x  26 x 512\n",
      "  124 conv    256  1 x 1 / 1    26 x  26 x 512   ->    26 x  26 x 256\n",
      "  125 conv    512  3 x 3 / 1    26 x  26 x 256   ->    26 x  26 x 512\n",
      "  126 conv    256  1 x 1 / 1    26 x  26 x 512   ->    26 x  26 x 256\n",
      "  127 conv    128  1 x 1 / 1    26 x  26 x 256   ->    26 x  26 x 128\n",
      "  128 upsample           * 2    26 x  26 x 128   ->    52 x  52 x 128\n",
      "  129 route  54\n",
      "  130 conv    128  1 x 1 / 1    52 x  52 x 256   ->    52 x  52 x 128\n",
      "  131 route  130 128\n",
      "  132 conv    128  1 x 1 / 1    52 x  52 x 256   ->    52 x  52 x 128\n",
      "  133 conv    256  3 x 3 / 1    52 x  52 x 128   ->    52 x  52 x 256\n",
      "  134 conv    128  1 x 1 / 1    52 x  52 x 256   ->    52 x  52 x 128\n",
      "  135 conv    256  3 x 3 / 1    52 x  52 x 128   ->    52 x  52 x 256\n",
      "  136 conv    128  1 x 1 / 1    52 x  52 x 256   ->    52 x  52 x 128\n",
      "  137 conv    256  3 x 3 / 1    52 x  52 x 128   ->    52 x  52 x 256\n",
      "  138 conv     18  1 x 1 / 1    52 x  52 x 256   ->    52 x  52 x  18\n",
      "  139 detection\n",
      "  140 route  136\n",
      "  141 conv    256  3 x 3 / 2    52 x  52 x 128   ->    26 x  26 x 256\n",
      "  142 route  141 126\n",
      "  143 conv    256  1 x 1 / 1    26 x  26 x 512   ->    26 x  26 x 256\n",
      "  144 conv    512  3 x 3 / 1    26 x  26 x 256   ->    26 x  26 x 512\n",
      "  145 conv    256  1 x 1 / 1    26 x  26 x 512   ->    26 x  26 x 256\n",
      "  146 conv    512  3 x 3 / 1    26 x  26 x 256   ->    26 x  26 x 512\n",
      "  147 conv    256  1 x 1 / 1    26 x  26 x 512   ->    26 x  26 x 256\n",
      "  148 conv    512  3 x 3 / 1    26 x  26 x 256   ->    26 x  26 x 512\n",
      "  149 conv     18  1 x 1 / 1    26 x  26 x 512   ->    26 x  26 x  18\n",
      "  150 detection\n",
      "  151 route  147\n",
      "  152 conv    512  3 x 3 / 2    26 x  26 x 256   ->    13 x  13 x 512\n",
      "  153 route  152 116\n",
      "  154 conv    512  1 x 1 / 1    13 x  13 x1024   ->    13 x  13 x 512\n",
      "  155 conv   1024  3 x 3 / 1    13 x  13 x 512   ->    13 x  13 x1024\n",
      "  156 conv    512  1 x 1 / 1    13 x  13 x1024   ->    13 x  13 x 512\n",
      "  157 conv   1024  3 x 3 / 1    13 x  13 x 512   ->    13 x  13 x1024\n",
      "  158 conv    512  1 x 1 / 1    13 x  13 x1024   ->    13 x  13 x 512\n",
      "  159 conv   1024  3 x 3 / 1    13 x  13 x 512   ->    13 x  13 x1024\n",
      "  160 conv     18  1 x 1 / 1    13 x  13 x1024   ->    13 x  13 x  18\n",
      "  161 detection\n",
      "Loading weights from ../backup/custom-yolov4-detector_4000.weights... Done!\n"
     ]
    },
    {
     "name": "stderr",
     "output_type": "stream",
     "text": [
      "/home/student/IARC-Hardware-Challenge/scripts/pytorch-YOLOv4/tool/yolo_layer.py:227: TracerWarning: torch.tensor results are registered as constants in the trace. You can safely ignore this warning if you use this function to create tensors out of constant variables that would be the same every time you call this function. In any other case, this might cause the trace to be incorrect.\n",
      "  bx = bxy[:, ii : ii + 1] + torch.tensor(grid_x, device=device, dtype=torch.float32) # grid_x.to(device=device, dtype=torch.float32)\n",
      "/home/student/IARC-Hardware-Challenge/scripts/pytorch-YOLOv4/tool/yolo_layer.py:229: TracerWarning: torch.tensor results are registered as constants in the trace. You can safely ignore this warning if you use this function to create tensors out of constant variables that would be the same every time you call this function. In any other case, this might cause the trace to be incorrect.\n",
      "  by = bxy[:, ii + 1 : ii + 2] + torch.tensor(grid_y, device=device, dtype=torch.float32) # grid_y.to(device=device, dtype=torch.float32)\n"
     ]
    },
    {
     "name": "stdout",
     "output_type": "stream",
     "text": [
      "Onnx model exporting done\n",
      "layer     filters    size              input                output\n",
      "    0 conv     32  3 x 3 / 1   416 x 416 x   3   ->   416 x 416 x  32\n",
      "    1 conv     64  3 x 3 / 2   416 x 416 x  32   ->   208 x 208 x  64\n",
      "    2 conv     64  1 x 1 / 1   208 x 208 x  64   ->   208 x 208 x  64\n",
      "    3 route  1\n",
      "    4 conv     64  1 x 1 / 1   208 x 208 x  64   ->   208 x 208 x  64\n",
      "    5 conv     32  1 x 1 / 1   208 x 208 x  64   ->   208 x 208 x  32\n",
      "    6 conv     64  3 x 3 / 1   208 x 208 x  32   ->   208 x 208 x  64\n",
      "    7 shortcut 4\n",
      "    8 conv     64  1 x 1 / 1   208 x 208 x  64   ->   208 x 208 x  64\n",
      "    9 route  8 2\n",
      "   10 conv     64  1 x 1 / 1   208 x 208 x 128   ->   208 x 208 x  64\n",
      "   11 conv    128  3 x 3 / 2   208 x 208 x  64   ->   104 x 104 x 128\n",
      "   12 conv     64  1 x 1 / 1   104 x 104 x 128   ->   104 x 104 x  64\n",
      "   13 route  11\n",
      "   14 conv     64  1 x 1 / 1   104 x 104 x 128   ->   104 x 104 x  64\n",
      "   15 conv     64  1 x 1 / 1   104 x 104 x  64   ->   104 x 104 x  64\n",
      "   16 conv     64  3 x 3 / 1   104 x 104 x  64   ->   104 x 104 x  64\n",
      "   17 shortcut 14\n",
      "   18 conv     64  1 x 1 / 1   104 x 104 x  64   ->   104 x 104 x  64\n",
      "   19 conv     64  3 x 3 / 1   104 x 104 x  64   ->   104 x 104 x  64\n",
      "   20 shortcut 17\n",
      "   21 conv     64  1 x 1 / 1   104 x 104 x  64   ->   104 x 104 x  64\n",
      "   22 route  21 12\n",
      "   23 conv    128  1 x 1 / 1   104 x 104 x 128   ->   104 x 104 x 128\n",
      "   24 conv    256  3 x 3 / 2   104 x 104 x 128   ->    52 x  52 x 256\n",
      "   25 conv    128  1 x 1 / 1    52 x  52 x 256   ->    52 x  52 x 128\n",
      "   26 route  24\n",
      "   27 conv    128  1 x 1 / 1    52 x  52 x 256   ->    52 x  52 x 128\n",
      "   28 conv    128  1 x 1 / 1    52 x  52 x 128   ->    52 x  52 x 128\n",
      "   29 conv    128  3 x 3 / 1    52 x  52 x 128   ->    52 x  52 x 128\n",
      "   30 shortcut 27\n",
      "   31 conv    128  1 x 1 / 1    52 x  52 x 128   ->    52 x  52 x 128\n",
      "   32 conv    128  3 x 3 / 1    52 x  52 x 128   ->    52 x  52 x 128\n",
      "   33 shortcut 30\n",
      "   34 conv    128  1 x 1 / 1    52 x  52 x 128   ->    52 x  52 x 128\n",
      "   35 conv    128  3 x 3 / 1    52 x  52 x 128   ->    52 x  52 x 128\n",
      "   36 shortcut 33\n",
      "   37 conv    128  1 x 1 / 1    52 x  52 x 128   ->    52 x  52 x 128\n",
      "   38 conv    128  3 x 3 / 1    52 x  52 x 128   ->    52 x  52 x 128\n",
      "   39 shortcut 36\n",
      "   40 conv    128  1 x 1 / 1    52 x  52 x 128   ->    52 x  52 x 128\n",
      "   41 conv    128  3 x 3 / 1    52 x  52 x 128   ->    52 x  52 x 128\n",
      "   42 shortcut 39\n",
      "   43 conv    128  1 x 1 / 1    52 x  52 x 128   ->    52 x  52 x 128\n",
      "   44 conv    128  3 x 3 / 1    52 x  52 x 128   ->    52 x  52 x 128\n",
      "   45 shortcut 42\n",
      "   46 conv    128  1 x 1 / 1    52 x  52 x 128   ->    52 x  52 x 128\n",
      "   47 conv    128  3 x 3 / 1    52 x  52 x 128   ->    52 x  52 x 128\n",
      "   48 shortcut 45\n",
      "   49 conv    128  1 x 1 / 1    52 x  52 x 128   ->    52 x  52 x 128\n",
      "   50 conv    128  3 x 3 / 1    52 x  52 x 128   ->    52 x  52 x 128\n",
      "   51 shortcut 48\n",
      "   52 conv    128  1 x 1 / 1    52 x  52 x 128   ->    52 x  52 x 128\n",
      "   53 route  52 25\n",
      "   54 conv    256  1 x 1 / 1    52 x  52 x 256   ->    52 x  52 x 256\n",
      "   55 conv    512  3 x 3 / 2    52 x  52 x 256   ->    26 x  26 x 512\n",
      "   56 conv    256  1 x 1 / 1    26 x  26 x 512   ->    26 x  26 x 256\n",
      "   57 route  55\n",
      "   58 conv    256  1 x 1 / 1    26 x  26 x 512   ->    26 x  26 x 256\n",
      "   59 conv    256  1 x 1 / 1    26 x  26 x 256   ->    26 x  26 x 256\n",
      "   60 conv    256  3 x 3 / 1    26 x  26 x 256   ->    26 x  26 x 256\n",
      "   61 shortcut 58\n",
      "   62 conv    256  1 x 1 / 1    26 x  26 x 256   ->    26 x  26 x 256\n",
      "   63 conv    256  3 x 3 / 1    26 x  26 x 256   ->    26 x  26 x 256\n",
      "   64 shortcut 61\n",
      "   65 conv    256  1 x 1 / 1    26 x  26 x 256   ->    26 x  26 x 256\n",
      "   66 conv    256  3 x 3 / 1    26 x  26 x 256   ->    26 x  26 x 256\n",
      "   67 shortcut 64\n",
      "   68 conv    256  1 x 1 / 1    26 x  26 x 256   ->    26 x  26 x 256\n",
      "   69 conv    256  3 x 3 / 1    26 x  26 x 256   ->    26 x  26 x 256\n",
      "   70 shortcut 67\n",
      "   71 conv    256  1 x 1 / 1    26 x  26 x 256   ->    26 x  26 x 256\n",
      "   72 conv    256  3 x 3 / 1    26 x  26 x 256   ->    26 x  26 x 256\n",
      "   73 shortcut 70\n",
      "   74 conv    256  1 x 1 / 1    26 x  26 x 256   ->    26 x  26 x 256\n",
      "   75 conv    256  3 x 3 / 1    26 x  26 x 256   ->    26 x  26 x 256\n",
      "   76 shortcut 73\n",
      "   77 conv    256  1 x 1 / 1    26 x  26 x 256   ->    26 x  26 x 256\n",
      "   78 conv    256  3 x 3 / 1    26 x  26 x 256   ->    26 x  26 x 256\n",
      "   79 shortcut 76\n",
      "   80 conv    256  1 x 1 / 1    26 x  26 x 256   ->    26 x  26 x 256\n",
      "   81 conv    256  3 x 3 / 1    26 x  26 x 256   ->    26 x  26 x 256\n",
      "   82 shortcut 79\n",
      "   83 conv    256  1 x 1 / 1    26 x  26 x 256   ->    26 x  26 x 256\n",
      "   84 route  83 56\n",
      "   85 conv    512  1 x 1 / 1    26 x  26 x 512   ->    26 x  26 x 512\n",
      "   86 conv   1024  3 x 3 / 2    26 x  26 x 512   ->    13 x  13 x1024\n",
      "   87 conv    512  1 x 1 / 1    13 x  13 x1024   ->    13 x  13 x 512\n",
      "   88 route  86\n",
      "   89 conv    512  1 x 1 / 1    13 x  13 x1024   ->    13 x  13 x 512\n",
      "   90 conv    512  1 x 1 / 1    13 x  13 x 512   ->    13 x  13 x 512\n",
      "   91 conv    512  3 x 3 / 1    13 x  13 x 512   ->    13 x  13 x 512\n",
      "   92 shortcut 89\n",
      "   93 conv    512  1 x 1 / 1    13 x  13 x 512   ->    13 x  13 x 512\n",
      "   94 conv    512  3 x 3 / 1    13 x  13 x 512   ->    13 x  13 x 512\n",
      "   95 shortcut 92\n",
      "   96 conv    512  1 x 1 / 1    13 x  13 x 512   ->    13 x  13 x 512\n",
      "   97 conv    512  3 x 3 / 1    13 x  13 x 512   ->    13 x  13 x 512\n",
      "   98 shortcut 95\n",
      "   99 conv    512  1 x 1 / 1    13 x  13 x 512   ->    13 x  13 x 512\n",
      "  100 conv    512  3 x 3 / 1    13 x  13 x 512   ->    13 x  13 x 512\n",
      "  101 shortcut 98\n",
      "  102 conv    512  1 x 1 / 1    13 x  13 x 512   ->    13 x  13 x 512\n",
      "  103 route  102 87\n",
      "  104 conv   1024  1 x 1 / 1    13 x  13 x1024   ->    13 x  13 x1024\n",
      "  105 conv    512  1 x 1 / 1    13 x  13 x1024   ->    13 x  13 x 512\n",
      "  106 conv   1024  3 x 3 / 1    13 x  13 x 512   ->    13 x  13 x1024\n",
      "  107 conv    512  1 x 1 / 1    13 x  13 x1024   ->    13 x  13 x 512\n",
      "  108 max          5 x 5 / 1    13 x  13 x 512   ->    13 x  13 x 512\n",
      "  109 route  107\n",
      "  110 max          9 x 9 / 1    13 x  13 x 512   ->    13 x  13 x 512\n",
      "  111 route  107\n",
      "  112 max          13 x 13 / 1    13 x  13 x 512   ->    13 x  13 x 512\n",
      "  113 route  112 110 108 107\n",
      "  114 conv    512  1 x 1 / 1    13 x  13 x2048   ->    13 x  13 x 512\n",
      "  115 conv   1024  3 x 3 / 1    13 x  13 x 512   ->    13 x  13 x1024\n",
      "  116 conv    512  1 x 1 / 1    13 x  13 x1024   ->    13 x  13 x 512\n",
      "  117 conv    256  1 x 1 / 1    13 x  13 x 512   ->    13 x  13 x 256\n",
      "  118 upsample           * 2    13 x  13 x 256   ->    26 x  26 x 256\n",
      "  119 route  85\n",
      "  120 conv    256  1 x 1 / 1    26 x  26 x 512   ->    26 x  26 x 256\n",
      "  121 route  120 118\n",
      "  122 conv    256  1 x 1 / 1    26 x  26 x 512   ->    26 x  26 x 256\n",
      "  123 conv    512  3 x 3 / 1    26 x  26 x 256   ->    26 x  26 x 512\n",
      "  124 conv    256  1 x 1 / 1    26 x  26 x 512   ->    26 x  26 x 256\n",
      "  125 conv    512  3 x 3 / 1    26 x  26 x 256   ->    26 x  26 x 512\n",
      "  126 conv    256  1 x 1 / 1    26 x  26 x 512   ->    26 x  26 x 256\n",
      "  127 conv    128  1 x 1 / 1    26 x  26 x 256   ->    26 x  26 x 128\n",
      "  128 upsample           * 2    26 x  26 x 128   ->    52 x  52 x 128\n",
      "  129 route  54\n",
      "  130 conv    128  1 x 1 / 1    52 x  52 x 256   ->    52 x  52 x 128\n",
      "  131 route  130 128\n",
      "  132 conv    128  1 x 1 / 1    52 x  52 x 256   ->    52 x  52 x 128\n",
      "  133 conv    256  3 x 3 / 1    52 x  52 x 128   ->    52 x  52 x 256\n",
      "  134 conv    128  1 x 1 / 1    52 x  52 x 256   ->    52 x  52 x 128\n",
      "  135 conv    256  3 x 3 / 1    52 x  52 x 128   ->    52 x  52 x 256\n",
      "  136 conv    128  1 x 1 / 1    52 x  52 x 256   ->    52 x  52 x 128\n",
      "  137 conv    256  3 x 3 / 1    52 x  52 x 128   ->    52 x  52 x 256\n",
      "  138 conv     18  1 x 1 / 1    52 x  52 x 256   ->    52 x  52 x  18\n",
      "  139 detection\n",
      "  140 route  136\n",
      "  141 conv    256  3 x 3 / 2    52 x  52 x 128   ->    26 x  26 x 256\n",
      "  142 route  141 126\n",
      "  143 conv    256  1 x 1 / 1    26 x  26 x 512   ->    26 x  26 x 256\n",
      "  144 conv    512  3 x 3 / 1    26 x  26 x 256   ->    26 x  26 x 512\n",
      "  145 conv    256  1 x 1 / 1    26 x  26 x 512   ->    26 x  26 x 256\n",
      "  146 conv    512  3 x 3 / 1    26 x  26 x 256   ->    26 x  26 x 512\n",
      "  147 conv    256  1 x 1 / 1    26 x  26 x 512   ->    26 x  26 x 256\n",
      "  148 conv    512  3 x 3 / 1    26 x  26 x 256   ->    26 x  26 x 512\n",
      "  149 conv     18  1 x 1 / 1    26 x  26 x 512   ->    26 x  26 x  18\n",
      "  150 detection\n",
      "  151 route  147\n",
      "  152 conv    512  3 x 3 / 2    26 x  26 x 256   ->    13 x  13 x 512\n",
      "  153 route  152 116\n",
      "  154 conv    512  1 x 1 / 1    13 x  13 x1024   ->    13 x  13 x 512\n",
      "  155 conv   1024  3 x 3 / 1    13 x  13 x 512   ->    13 x  13 x1024\n",
      "  156 conv    512  1 x 1 / 1    13 x  13 x1024   ->    13 x  13 x 512\n",
      "  157 conv   1024  3 x 3 / 1    13 x  13 x 512   ->    13 x  13 x1024\n",
      "  158 conv    512  1 x 1 / 1    13 x  13 x1024   ->    13 x  13 x 512\n",
      "  159 conv   1024  3 x 3 / 1    13 x  13 x 512   ->    13 x  13 x1024\n",
      "  160 conv     18  1 x 1 / 1    13 x  13 x1024   ->    13 x  13 x  18\n",
      "  161 detection\n",
      "Loading weights from ../backup/custom-yolov4-detector_4000.weights... Done!\n",
      "Onnx model exporting done\n",
      "The model expects input shape:  [1, 3, 416, 416]\n",
      "Shape of the network input:  (1, 3, 416, 416)\n",
      "-----------------------------------\n",
      "       max and argmax : 0.000107\n",
      "                  nms : 0.000585\n",
      "Post processing total : 0.000692\n",
      "-----------------------------------\n",
      "save plot results to predictions_onnx.jpg\n"
     ]
    }
   ],
   "source": [
    "d.main(cfg, 'whatever.txt', wt, 'hmm.png', 1)"
   ]
  },
  {
   "cell_type": "code",
   "execution_count": 6,
   "id": "d2163f24-1e05-43f5-be27-c18b7bdfdad7",
   "metadata": {},
   "outputs": [],
   "source": [
    "import tensorrt as trt\n",
    "\n",
    "TRT_LOGGER = trt.Logger(trt.Logger.WARNING)\n",
    "trt_runtime = trt.Runtime(TRT_LOGGER)\n",
    "def build_engine(onnx_path, shape = [1,3, 416,416]):\n",
    "\n",
    "   \"\"\"\n",
    "   This is the function to create the TensorRT engine\n",
    "   Args:\n",
    "      onnx_path : Path to onnx_file. \n",
    "      shape : Shape of the input of the ONNX file. \n",
    "  \"\"\"\n",
    "   with trt.Builder(TRT_LOGGER) as builder, builder.create_network(1) as network, builder.create_builder_config() as config, trt.OnnxParser(network, TRT_LOGGER) as parser:\n",
    "       config.max_workspace_size = (1 << 30)\n",
    "       with open(onnx_path, 'rb') as model:\n",
    "           parser.parse(model.read())\n",
    "       network.get_input(0).shape = shape\n",
    "       engine = builder.build_engine(network, config)\n",
    "       print('hmmm')\n",
    "       return engine\n",
    "\n",
    "def save_engine(engine, file_name):\n",
    "   buf = engine.serialize()\n",
    "   with open(file_name, 'wb') as f:\n",
    "       f.write(buf)\n",
    "def load_engine(trt_runtime, plan_path):\n",
    "   with open(plan_path, 'rb') as f:\n",
    "       engine_data = f.read()\n",
    "   engine = trt_runtime.deserialize_cuda_engine(engine_data)\n",
    "   return engine"
   ]
  },
  {
   "cell_type": "code",
   "execution_count": 7,
   "id": "26ce9e27-904e-467f-8340-55177294e9ce",
   "metadata": {},
   "outputs": [
    {
     "name": "stderr",
     "output_type": "stream",
     "text": [
      "/tmp/ipykernel_494/3375568266.py:14: DeprecationWarning: Use set_memory_pool_limit instead.\n",
      "  config.max_workspace_size = (1 << 30)\n"
     ]
    },
    {
     "name": "stdout",
     "output_type": "stream",
     "text": [
      "[05/20/2022-10:07:33] [TRT] [W] onnx2trt_utils.cpp:365: Your ONNX model has been generated with INT64 weights, while TensorRT does not natively support INT64. Attempting to cast down to INT32.\n",
      "[05/20/2022-10:07:33] [TRT] [W] onnx2trt_utils.cpp:391: One or more weights outside the range of INT32 was clamped\n",
      "[05/20/2022-10:07:33] [TRT] [W] onnx2trt_utils.cpp:391: One or more weights outside the range of INT32 was clamped\n",
      "[05/20/2022-10:07:33] [TRT] [W] onnx2trt_utils.cpp:391: One or more weights outside the range of INT32 was clamped\n",
      "[05/20/2022-10:07:33] [TRT] [W] onnx2trt_utils.cpp:391: One or more weights outside the range of INT32 was clamped\n",
      "[05/20/2022-10:07:33] [TRT] [W] onnx2trt_utils.cpp:391: One or more weights outside the range of INT32 was clamped\n",
      "[05/20/2022-10:07:33] [TRT] [W] onnx2trt_utils.cpp:391: One or more weights outside the range of INT32 was clamped\n"
     ]
    },
    {
     "name": "stderr",
     "output_type": "stream",
     "text": [
      "/tmp/ipykernel_494/3375568266.py:18: DeprecationWarning: Use build_serialized_network instead.\n",
      "  engine = builder.build_engine(network, config)\n"
     ]
    },
    {
     "name": "stdout",
     "output_type": "stream",
     "text": [
      "[05/20/2022-10:07:35] [TRT] [W] TensorRT was linked against cuBLAS/cuBLAS LT 11.8.0 but loaded cuBLAS/cuBLAS LT 11.7.3\n",
      "hmmm\n"
     ]
    }
   ],
   "source": [
    "ez = build_engine('yolov4_1_3_416_416_static.onnx')"
   ]
  },
  {
   "cell_type": "code",
   "execution_count": 8,
   "id": "1a76f8fe-ecdc-423b-a33b-55fa11a5ace7",
   "metadata": {},
   "outputs": [
    {
     "name": "stdout",
     "output_type": "stream",
     "text": [
      "<tensorrt.tensorrt.ICudaEngine object at 0x7f4cfca866f0>\n"
     ]
    }
   ],
   "source": [
    "print(ez)"
   ]
  },
  {
   "cell_type": "code",
   "execution_count": 9,
   "id": "f7cdba1a-37d9-4d76-9058-ab463fcbae52",
   "metadata": {},
   "outputs": [],
   "source": [
    "save_engine(ez, 'trtez_416')"
   ]
  },
  {
   "cell_type": "code",
   "execution_count": 10,
   "id": "34f17f95-dab2-4d1e-94fd-a5b23c4cccd5",
   "metadata": {},
   "outputs": [],
   "source": [
    "ez = load_engine(trt_runtime, 'trtez_416')"
   ]
  },
  {
   "cell_type": "code",
   "execution_count": 11,
   "id": "d88a79bf-dc63-4516-9e45-5e4a259d1a0b",
   "metadata": {},
   "outputs": [],
   "source": [
    "import tensorrt as trt\n",
    "import numpy as np\n",
    "import os\n",
    "\n",
    "import pycuda.driver as cuda\n",
    "import pycuda.autoinit\n",
    "\n",
    "\n",
    "\n",
    "class HostDeviceMem(object):\n",
    "    def __init__(self, host_mem, device_mem):\n",
    "        self.host = host_mem\n",
    "        self.device = device_mem\n",
    "\n",
    "    def __str__(self):\n",
    "        return \"Host:\\n\" + str(self.host) + \"\\nDevice:\\n\" + str(self.device)\n",
    "\n",
    "    def __repr__(self):\n",
    "        return self.__str__()\n",
    "\n",
    "class TrtModel:\n",
    "    \n",
    "    def __init__(self,engine_path,max_batch_size=1,dtype=np.float32):\n",
    "        \n",
    "        self.engine_path = engine_path\n",
    "        self.dtype = dtype\n",
    "        self.logger = trt.Logger(trt.Logger.WARNING)\n",
    "        self.runtime = trt.Runtime(self.logger)\n",
    "        self.engine = self.load_engine(self.runtime, self.engine_path)\n",
    "        self.max_batch_size = max_batch_size\n",
    "        self.inputs, self.outputs, self.bindings, self.stream = self.allocate_buffers()\n",
    "        self.context = self.engine.create_execution_context()\n",
    "\n",
    "                \n",
    "                \n",
    "    @staticmethod\n",
    "    def load_engine(trt_runtime, engine_path):\n",
    "        trt.init_libnvinfer_plugins(None, \"\")             \n",
    "        with open(engine_path, 'rb') as f:\n",
    "            engine_data = f.read()\n",
    "        engine = trt_runtime.deserialize_cuda_engine(engine_data)\n",
    "        return engine\n",
    "    \n",
    "    def allocate_buffers(self):\n",
    "        \n",
    "        inputs = []\n",
    "        outputs = []\n",
    "        bindings = []\n",
    "        stream = cuda.Stream()\n",
    "        \n",
    "        for binding in self.engine:\n",
    "            size = trt.volume(self.engine.get_binding_shape(binding)) * self.max_batch_size\n",
    "            host_mem = cuda.pagelocked_empty(size, self.dtype)\n",
    "            device_mem = cuda.mem_alloc(host_mem.nbytes)\n",
    "            \n",
    "            bindings.append(int(device_mem))\n",
    "\n",
    "            if self.engine.binding_is_input(binding):\n",
    "                inputs.append(HostDeviceMem(host_mem, device_mem))\n",
    "            else:\n",
    "                outputs.append(HostDeviceMem(host_mem, device_mem))\n",
    "        \n",
    "        return inputs, outputs, bindings, stream\n",
    "       \n",
    "            \n",
    "    def __call__(self,x:np.ndarray,batch_size=1):\n",
    "        \n",
    "        x = x.astype(self.dtype)\n",
    "        \n",
    "        np.copyto(self.inputs[0].host,x.ravel())\n",
    "        \n",
    "        for inp in self.inputs:\n",
    "            cuda.memcpy_htod_async(inp.device, inp.host, self.stream)\n",
    "        \n",
    "        self.context.execute_async(batch_size=batch_size, bindings=self.bindings, stream_handle=self.stream.handle)\n",
    "        for out in self.outputs:\n",
    "            cuda.memcpy_dtoh_async(out.host, out.device, self.stream) \n",
    "            \n",
    "        \n",
    "        self.stream.synchronize()\n",
    "        return [out.host.reshape(batch_size,-1) for out in self.outputs]\n",
    "\n",
    "\n",
    "        \n",
    "        \n"
   ]
  },
  {
   "cell_type": "code",
   "execution_count": 12,
   "id": "eeb0dfea-384d-4263-90de-21f78743cc34",
   "metadata": {},
   "outputs": [],
   "source": [
    "import cv2\n",
    "batch_size = 1\n",
    "trt_engine_path = 'trtez_416'\n",
    "model = TrtModel(trt_engine_path)\n",
    "shape = model.engine.get_binding_shape(0)\n",
    "\n",
    "\n",
    "data = cv2.imread('hmm.png')\n",
    "(IN_IMAGE_W, IN_IMAGE_H) = (416, 416)\n",
    "resized = cv2.resize(data, (IN_IMAGE_W, IN_IMAGE_H), interpolation=cv2.INTER_LINEAR)\n",
    "img_in = cv2.cvtColor(resized, cv2.COLOR_BGR2RGB)\n",
    "img_in = np.transpose(img_in, (2, 0, 1)).astype(np.float32)\n",
    "img_in = np.expand_dims(img_in, axis=0)\n",
    "img_in /= 255.0\n",
    "img_in = np.ascontiguousarray(img_in)\n",
    "result = model(img_in,batch_size)"
   ]
  },
  {
   "cell_type": "code",
   "execution_count": 13,
   "id": "c482d0a2-6e82-4ff3-838b-4a36fc49fcff",
   "metadata": {},
   "outputs": [
    {
     "data": {
      "text/plain": [
       "(416, 416, 3)"
      ]
     },
     "execution_count": 13,
     "metadata": {},
     "output_type": "execute_result"
    }
   ],
   "source": [
    "data.shape"
   ]
  },
  {
   "cell_type": "code",
   "execution_count": 14,
   "id": "5ee658ff-ef26-4677-b2b4-95f0da7b456b",
   "metadata": {},
   "outputs": [
    {
     "name": "stdout",
     "output_type": "stream",
     "text": [
      "11.7 ms ± 42.8 µs per loop (mean ± std. dev. of 7 runs, 100 loops each)\n"
     ]
    }
   ],
   "source": [
    "%timeit result = model(img_in,batch_size)"
   ]
  },
  {
   "cell_type": "code",
   "execution_count": 19,
   "id": "440f9239-9eee-44a1-81c3-19987dd4e60e",
   "metadata": {},
   "outputs": [
    {
     "data": {
      "text/plain": [
       "(1, 10647, 1, 4)"
      ]
     },
     "execution_count": 19,
     "metadata": {},
     "output_type": "execute_result"
    }
   ],
   "source": [
    "result[0].shape"
   ]
  },
  {
   "cell_type": "code",
   "execution_count": 16,
   "id": "b30e29ce-13fb-42b8-b811-b24223ddec36",
   "metadata": {},
   "outputs": [],
   "source": [
    "trt_outputs = result\n",
    "trt_outputs[0] = trt_outputs[0].reshape(1, -1, 1, 4)\n",
    "trt_outputs[1] = trt_outputs[1].reshape(1, -1, 1)"
   ]
  },
  {
   "cell_type": "code",
   "execution_count": 26,
   "id": "5dee1704-0c15-41ad-8209-b8d03fb16725",
   "metadata": {},
   "outputs": [
    {
     "name": "stdout",
     "output_type": "stream",
     "text": [
      "-----------------------------------\n",
      "       max and argmax : 0.000415\n",
      "                  nms : 0.001227\n",
      "Post processing total : 0.001642\n",
      "-----------------------------------\n"
     ]
    }
   ],
   "source": [
    "bbox = post_processing(0.4, 0.6, result)"
   ]
  },
  {
   "cell_type": "code",
   "execution_count": 29,
   "id": "13ae8f7c-f634-4dec-bc9e-ae4243e7a278",
   "metadata": {},
   "outputs": [
    {
     "data": {
      "text/plain": [
       "[[[0.49883282, 0.33946836, 0.5954933, 0.49975893, 0.9465441, 0.9465441, 0]]]"
      ]
     },
     "execution_count": 29,
     "metadata": {},
     "output_type": "execute_result"
    }
   ],
   "source": [
    "bbox"
   ]
  },
  {
   "cell_type": "code",
   "execution_count": 20,
   "id": "96a67aa9-a229-498f-8090-0e8697330070",
   "metadata": {},
   "outputs": [],
   "source": [
    "def loc_det(img, boxes):\n",
    "    img = np.copy(img)\n",
    "    width = img.shape[1]\n",
    "    height = img.shape[0]\n",
    "    if (len(boxes) > 0):\n",
    "        box = boxes[0]\n",
    "        x1 = int(box[0] * width)\n",
    "        y1 = int(box[1] * height)\n",
    "        x2 = int(box[2] * width)\n",
    "        y2 = int(box[3] * height)\n",
    "        return [True, x1, y1, x2, y2]\n",
    "    else:\n",
    "        return [False, 0, 0, 0, 0]"
   ]
  },
  {
   "cell_type": "code",
   "execution_count": 30,
   "id": "f77664f2-ed4d-4513-9c9a-048cdd547b4a",
   "metadata": {},
   "outputs": [],
   "source": [
    "_, x1, y1, x2, y2 = loc_det(data, bbox[0])"
   ]
  },
  {
   "cell_type": "code",
   "execution_count": 31,
   "id": "17a2519b-dd43-401b-a10c-dde4503e4491",
   "metadata": {},
   "outputs": [],
   "source": [
    "bgr = data\n",
    "trtout = cv2.rectangle(bgr.astype(np.uint8).copy() ,(int(x1),int(y1)),(int(x2),int(y2)),(0,0,255),3)"
   ]
  },
  {
   "cell_type": "code",
   "execution_count": 33,
   "id": "b56905c4-197d-48d9-a377-7b4d8ff6be47",
   "metadata": {},
   "outputs": [
    {
     "data": {
      "text/plain": [
       "<matplotlib.image.AxesImage at 0x7f13bbda7b38>"
      ]
     },
     "execution_count": 33,
     "metadata": {},
     "output_type": "execute_result"
    },
    {
     "data": {
      "image/png": "[encoded data removed]",
      "text/plain": [
       "<Figure size 432x288 with 1 Axes>"
      ]
     },
     "metadata": {
      "needs_background": "light"
     },
     "output_type": "display_data"
    }
   ],
   "source": [
    "import matplotlib.pyplot as plt\n",
    "plt.imshow(trtout)"
   ]
  },
  {
   "cell_type": "code",
   "execution_count": 19,
   "id": "c7f59652-4c19-4a4d-972e-abfd8533b620",
   "metadata": {},
   "outputs": [],
   "source": [
    "import time\n",
    "def nms_cpu(boxes, confs, nms_thresh=0.5, min_mode=False):\n",
    "    # print(boxes.shape)\n",
    "    x1 = boxes[:, 0]\n",
    "    y1 = boxes[:, 1]\n",
    "    x2 = boxes[:, 2]\n",
    "    y2 = boxes[:, 3]\n",
    "\n",
    "    areas = (x2 - x1) * (y2 - y1)\n",
    "    order = confs.argsort()[::-1]\n",
    "\n",
    "    keep = []\n",
    "    while order.size > 0:\n",
    "        idx_self = order[0]\n",
    "        idx_other = order[1:]\n",
    "\n",
    "        keep.append(idx_self)\n",
    "\n",
    "        xx1 = np.maximum(x1[idx_self], x1[idx_other])\n",
    "        yy1 = np.maximum(y1[idx_self], y1[idx_other])\n",
    "        xx2 = np.minimum(x2[idx_self], x2[idx_other])\n",
    "        yy2 = np.minimum(y2[idx_self], y2[idx_other])\n",
    "\n",
    "        w = np.maximum(0.0, xx2 - xx1)\n",
    "        h = np.maximum(0.0, yy2 - yy1)\n",
    "        inter = w * h\n",
    "\n",
    "        if min_mode:\n",
    "            over = inter / np.minimum(areas[order[0]], areas[order[1:]])\n",
    "        else:\n",
    "            over = inter / (areas[order[0]] + areas[order[1:]] - inter)\n",
    "\n",
    "        inds = np.where(over <= nms_thresh)[0]\n",
    "        order = order[inds + 1]\n",
    "    \n",
    "    return np.array(keep)\n",
    "\n",
    "def post_processing(conf_thresh, nms_thresh, output):\n",
    "\n",
    "    # anchors = [12, 16, 19, 36, 40, 28, 36, 75, 76, 55, 72, 146, 142, 110, 192, 243, 459, 401]\n",
    "    # num_anchors = 9\n",
    "    # anchor_masks = [[0, 1, 2], [3, 4, 5], [6, 7, 8]]\n",
    "    # strides = [8, 16, 32]\n",
    "    # anchor_step = len(anchors) // num_anchors\n",
    "\n",
    "    # [batch, num, 1, 4]\n",
    "    box_array = output[0]\n",
    "    # [batch, num, num_classes]\n",
    "    confs = output[1]\n",
    "\n",
    "    t1 = time.time()\n",
    "\n",
    "    if type(box_array).__name__ != 'ndarray':\n",
    "        box_array = box_array.cpu().detach().numpy()\n",
    "        confs = confs.cpu().detach().numpy()\n",
    "\n",
    "    num_classes = confs.shape[2]\n",
    "\n",
    "    # [batch, num, 4]\n",
    "    box_array = box_array[:, :, 0]\n",
    "\n",
    "    # [batch, num, num_classes] --> [batch, num]\n",
    "    max_conf = np.max(confs, axis=2)\n",
    "    max_id = np.argmax(confs, axis=2)\n",
    "\n",
    "    t2 = time.time()\n",
    "\n",
    "    bboxes_batch = []\n",
    "    for i in range(box_array.shape[0]):\n",
    "       \n",
    "        argwhere = max_conf[i] > conf_thresh\n",
    "        l_box_array = box_array[i, argwhere, :]\n",
    "        l_max_conf = max_conf[i, argwhere]\n",
    "        l_max_id = max_id[i, argwhere]\n",
    "\n",
    "        bboxes = []\n",
    "        # nms for each class\n",
    "        for j in range(num_classes):\n",
    "\n",
    "            cls_argwhere = l_max_id == j\n",
    "            ll_box_array = l_box_array[cls_argwhere, :]\n",
    "            ll_max_conf = l_max_conf[cls_argwhere]\n",
    "            ll_max_id = l_max_id[cls_argwhere]\n",
    "\n",
    "            keep = nms_cpu(ll_box_array, ll_max_conf, nms_thresh)\n",
    "            \n",
    "            if (keep.size > 0):\n",
    "                ll_box_array = ll_box_array[keep, :]\n",
    "                ll_max_conf = ll_max_conf[keep]\n",
    "                ll_max_id = ll_max_id[keep]\n",
    "\n",
    "                for k in range(ll_box_array.shape[0]):\n",
    "                    bboxes.append([ll_box_array[k, 0], ll_box_array[k, 1], ll_box_array[k, 2], ll_box_array[k, 3], ll_max_conf[k], ll_max_conf[k], ll_max_id[k]])\n",
    "        \n",
    "        bboxes_batch.append(bboxes)\n",
    "\n",
    "    t3 = time.time()\n",
    "\n",
    "    print('-----------------------------------')\n",
    "    print('       max and argmax : %f' % (t2 - t1))\n",
    "    print('                  nms : %f' % (t3 - t2))\n",
    "    print('Post processing total : %f' % (t3 - t1))\n",
    "    print('-----------------------------------')\n",
    "    \n",
    "    return bboxes_batch"
   ]
  }
 ],
 "metadata": {
  "kernelspec": {
   "display_name": "Python 3 (ipykernel)",
   "language": "python",
   "name": "python3"
  },
  "language_info": {
   "codemirror_mode": {
    "name": "ipython",
    "version": 3
   },
   "file_extension": ".py",
   "mimetype": "text/x-python",
   "name": "python",
   "nbconvert_exporter": "python",
   "pygments_lexer": "ipython3",
   "version": "3.8.10"
  }
 },
 "nbformat": 4,
 "nbformat_minor": 5
}

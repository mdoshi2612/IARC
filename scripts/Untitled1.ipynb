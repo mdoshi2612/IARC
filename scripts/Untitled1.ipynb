{
 "cells": [
  {
   "cell_type": "code",
   "execution_count": 1,
   "id": "2af1272d-9155-4604-ae0f-9ccedac0250e",
   "metadata": {},
   "outputs": [],
   "source": [
    "import numpy as np\n",
    "import matplotlib.pyplot as plt\n",
    "import plane_fitting as plane\n",
    "\n",
    "def point_cloud(center, depth,  Fx, Fy, k = 20, sitl = True):\n",
    "    if sitl:\n",
    "        center_depth = np.array(center, dtype=int)\n",
    "    else:\n",
    "        center_depth = np.array(center*360/480, dtype = int)\n",
    "        center_depth = center_depth[0]\n",
    "    data = depth[center_depth[1]-k:center_depth[1]+k +1,center_depth[0]-k:center_depth[0]+k+1]\n",
    "    A = np.arange((2*k)+1)\n",
    "    A = A-k\n",
    "    x = []\n",
    "    for i in range ((2*k)+1):\n",
    "        x.append(A)\n",
    "    x = np.array(x)*(-1)\n",
    "    y = (x.T)\n",
    "    x = x + center[0]\n",
    "    y = y + center[1]\n",
    "    x = x/Fx\n",
    "    y = y/Fy\n",
    "    x = x*data\n",
    "    y = y*data\n",
    "    avg_z = np.sum(data)/(data.shape[0]*data.shape[1])\n",
    "    points = []\n",
    "    points_sense = []\n",
    "    points.append(x)\n",
    "    points.append(y)\n",
    "    points.append(data)\n",
    "    points = np.array(points)\n",
    "    points_sense.append(x)\n",
    "    points_sense.append(data)\n",
    "    points_sense = np.array(points_sense)\n",
    "    points_sense = np.array(points_sense[:,8:12,:])\n",
    "    points_sense = np.reshape(points_sense, (2, points_sense.shape[1]*points_sense.shape[2]))\n",
    "    \n",
    "    pc = np.reshape(points, (3,((2*k)+1)**2))\n",
    "    pc = pc.T\n",
    "    return pc, points_sense.T, avg_z\n",
    "\n",
    "\n",
    "def plot_plane(a,b,c,d):\n",
    "    pass"
   ]
  },
  {
   "cell_type": "code",
   "execution_count": 41,
   "id": "512d4f41-3b13-49e4-8378-e4abbafbfacc",
   "metadata": {},
   "outputs": [
    {
     "name": "stdout",
     "output_type": "stream",
     "text": [
      "80.0\n",
      "56.0\n"
     ]
    },
    {
     "data": {
      "image/png": "[encoded data removed]",
      "text/plain": [
       "<Figure size 432x288 with 1 Axes>"
      ]
     },
     "metadata": {
      "needs_background": "light"
     },
     "output_type": "display_data"
    }
   ],
   "source": [
    "i = 0\n",
    "depth = np.load('pc/depth_' + str(i) + '.npy')\n",
    "b_box = np.load('pc/bounding_box_' + str(i) +'.npy')\n",
    "center = np.array((b_box[0] + b_box[1])/2, dtype= int)\n",
    "c_patch = np.array([(b_box[0,0] + b_box[1,0])/2 , (b_box[0,1]*3 + b_box[1,1])/4], dtype=int)\n",
    "z_patch = depth[c_patch[1], c_patch[0]]\n",
    "Px, Py = b_box[2, 0], b_box[2,1]\n",
    "pc, points_sense, avg_z= point_cloud(center, depth, Px, Py, k = 40)\n",
    "pc_patch, points, avg_z = point_cloud(c_patch, depth, Px, Py, k = 5)\n",
    "print(b_box[1,1] - b_box[0,1])\n",
    "print(b_box[1,0] - b_box[0,0])\n",
    "m = plane.face_vector(pc)\n",
    "fig = plt.figure()\n",
    "ax = plt.axes(projection='3d')\n",
    "ax.scatter(pc.T[0], pc.T[1], pc.T[2], color = 'gray')\n",
    "ax.scatter((c_patch[0]/Px)*z_patch, (c_patch[1]/Py)*z_patch, z_patch, color = 'red')\n",
    "ax.scatter(pc_patch.T[0], pc_patch.T[1], pc_patch.T[2], color= 'red')\n",
    "\n",
    "plt.show()\n",
    "plt.close('all')"
   ]
  },
  {
   "cell_type": "code",
   "execution_count": 42,
   "id": "0efa0420-50c3-4a2a-8388-bf338e747821",
   "metadata": {},
   "outputs": [
    {
     "data": {
      "text/plain": [
       "(6561, 3)"
      ]
     },
     "execution_count": 42,
     "metadata": {},
     "output_type": "execute_result"
    }
   ],
   "source": [
    "pc.shape"
   ]
  },
  {
   "cell_type": "code",
   "execution_count": 51,
   "id": "3074ad09-84f6-45fd-a178-df679a4f27d4",
   "metadata": {},
   "outputs": [
    {
     "data": {
      "text/plain": [
       "(324, 2)"
      ]
     },
     "execution_count": 51,
     "metadata": {},
     "output_type": "execute_result"
    }
   ],
   "source": [
    "points_sense.shape"
   ]
  },
  {
   "cell_type": "code",
   "execution_count": 52,
   "id": "0e283d77-9d9f-44da-951f-580a40297594",
   "metadata": {},
   "outputs": [],
   "source": [
    "ix = np.argwhere(points_sense[:,1] > 6)"
   ]
  },
  {
   "cell_type": "code",
   "execution_count": 53,
   "id": "c469fd28-7d22-4604-bcb5-cfeef7ded78b",
   "metadata": {},
   "outputs": [
    {
     "data": {
      "text/plain": [
       "(68, 1)"
      ]
     },
     "execution_count": 53,
     "metadata": {},
     "output_type": "execute_result"
    }
   ],
   "source": [
    "ix.shape"
   ]
  },
  {
   "cell_type": "code",
   "execution_count": 45,
   "id": "99685c28-3e1e-4b4b-9d7f-f04f3bde6eba",
   "metadata": {},
   "outputs": [],
   "source": [
    "pc = np.delete(pc, ix, axis = 0)"
   ]
  },
  {
   "cell_type": "code",
   "execution_count": 54,
   "id": "721606d1-fe75-4402-8b7f-c30bc37df015",
   "metadata": {},
   "outputs": [],
   "source": [
    "points_sense = np.delete(points_sense, ix, axis = 0)"
   ]
  },
  {
   "cell_type": "code",
   "execution_count": 55,
   "id": "88f84d25-5cba-4db3-87de-14a6c9467bec",
   "metadata": {},
   "outputs": [
    {
     "data": {
      "text/plain": [
       "array([[3.62026955, 4.59624624],\n",
       "       [3.6119498 , 4.59083605],\n",
       "       [3.60483242, 4.58694363],\n",
       "       [3.59772678, 4.5830574 ],\n",
       "       [3.59063325, 4.57917786],\n",
       "       [3.5835518 , 4.57530499],\n",
       "       [3.57648243, 4.57143879],\n",
       "       [3.56942474, 4.56757879],\n",
       "       [3.56237908, 4.56372547],\n",
       "       [3.55534544, 4.55987883],\n",
       "       [3.54832343, 4.55603838],\n",
       "       [3.5413134 , 4.55220461],\n",
       "       [3.53431496, 4.54837704],\n",
       "       [3.52732848, 4.54455614],\n",
       "       [3.52035356, 4.54074144],\n",
       "       [3.51370368, 4.53733778],\n",
       "       [3.50784103, 4.53494406],\n",
       "       [3.50089835, 4.531147  ],\n",
       "       [3.49396754, 4.52735662],\n",
       "       [3.4870482 , 4.52357244],\n",
       "       [3.48014033, 4.51979446],\n",
       "       [3.47324391, 4.51602268],\n",
       "       [3.46635929, 4.51225758],\n",
       "       [3.45948608, 4.50849867],\n",
       "       [3.45262426, 4.50474596],\n",
       "       [3.44577383, 4.50099945],\n",
       "       [3.43893476, 4.49725914],\n",
       "       [3.43210704, 4.49352503],\n",
       "       [3.42529064, 4.48979712],\n",
       "       [3.41848557, 4.4860754 ],\n",
       "       [3.41169179, 4.48235989],\n",
       "       [3.40490929, 4.47865057],\n",
       "       [3.3981377 , 4.47494698],\n",
       "       [3.39137772, 4.47125006],\n",
       "       [3.38462861, 4.46755886],\n",
       "       [3.37789072, 4.46387386],\n",
       "       [3.37116402, 4.46019506],\n",
       "       [3.36444852, 4.45652246],\n",
       "       [3.35774381, 4.45285559],\n",
       "       [3.35105027, 4.44919491],\n",
       "       [3.34436785, 4.44554043],\n",
       "       [3.3376962 , 4.44189167],\n",
       "       [3.3310353 , 4.43824863],\n",
       "       [3.32438583, 4.43461227],\n",
       "       [3.31774673, 4.43098116],\n",
       "       [3.31111868, 4.42735624],\n",
       "       [3.30450167, 4.42373753],\n",
       "       [3.29789533, 4.42012453],\n",
       "       [3.29129964, 4.41651726],\n",
       "       [3.28471494, 4.41291618],\n",
       "       [3.27814087, 4.40932083],\n",
       "       [3.2715774 , 4.4057312 ],\n",
       "       [3.26502452, 4.40214729],\n",
       "       [3.25848256, 4.39856958],\n",
       "       [3.25195117, 4.3949976 ],\n",
       "       [3.24543032, 4.39143133],\n",
       "       [3.24033461, 4.3897872 ],\n",
       "       [3.25957624, 4.42114925],\n",
       "       [3.37567096, 4.58411169],\n",
       "       [3.38199196, 4.59821558],\n",
       "       [3.37841503, 4.59887981],\n",
       "       [3.37598274, 4.60110569],\n",
       "       [3.37354792, 4.60333347],\n",
       "       [3.37471776, 4.61049128],\n",
       "       [3.62026505, 4.59624052],\n",
       "       [3.61194455, 4.59082937],\n",
       "       [3.60482717, 4.58693695],\n",
       "       [3.59772154, 4.58305073],\n",
       "       [3.59062801, 4.57917118],\n",
       "       [3.58354657, 4.57529831],\n",
       "       [3.57647721, 4.57143211],\n",
       "       [3.56941952, 4.56757212],\n",
       "       [3.56237387, 4.5637188 ],\n",
       "       [3.55534023, 4.55987215],\n",
       "       [3.54831823, 4.5560317 ],\n",
       "       [3.5413082 , 4.55219793],\n",
       "       [3.53430978, 4.54837036],\n",
       "       [3.5273233 , 4.54454947],\n",
       "       [3.52034838, 4.54073477],\n",
       "       [3.51338538, 4.53692675],\n",
       "       [3.5064339 , 4.53312492],\n",
       "       [3.49949394, 4.5293293 ],\n",
       "       [3.49256584, 4.52554035],\n",
       "       [3.48564921, 4.5217576 ],\n",
       "       [3.47874405, 4.51798105],\n",
       "       [3.4718507 , 4.51421118],\n",
       "       [3.46496877, 4.5104475 ],\n",
       "       [3.45809789, 4.50668955],\n",
       "       [3.45123877, 4.50293827],\n",
       "       [3.44439103, 4.49919319],\n",
       "       [3.43755465, 4.49545431],\n",
       "       [3.43072962, 4.49172163],\n",
       "       [3.42391591, 4.48799515],\n",
       "       [3.41711352, 4.48427486],\n",
       "       [3.41069117, 4.48104525],\n",
       "       [3.40490458, 4.47864437],\n",
       "       [3.39813299, 4.47494078],\n",
       "       [3.39137302, 4.47124386],\n",
       "       [3.38462391, 4.46755266],\n",
       "       [3.37788639, 4.46386814],\n",
       "       [3.37115934, 4.46018887],\n",
       "       [3.36444384, 4.45651627],\n",
       "       [3.35773914, 4.45284939],\n",
       "       [3.3510456 , 4.44918871],\n",
       "       [3.34436319, 4.44553423],\n",
       "       [3.33769154, 4.44188547],\n",
       "       [3.331031  , 4.43824291],\n",
       "       [3.32438119, 4.43460608],\n",
       "       [3.31774209, 4.43097496],\n",
       "       [3.3111144 , 4.42735052],\n",
       "       [3.30449704, 4.42373133],\n",
       "       [3.29789071, 4.42011833],\n",
       "       [3.29129502, 4.41651106],\n",
       "       [3.28471033, 4.41290998],\n",
       "       [3.27813626, 4.40931463],\n",
       "       [3.27157279, 4.405725  ],\n",
       "       [3.26502027, 4.40214157],\n",
       "       [3.25847833, 4.39856386],\n",
       "       [3.25194694, 4.39499187],\n",
       "       [3.24542609, 4.39142561],\n",
       "       [3.24023253, 4.38964891],\n",
       "       [3.25941769, 4.4209342 ],\n",
       "       [3.37429767, 4.58224678],\n",
       "       [3.38194391, 4.59815025],\n",
       "       [3.37833481, 4.59877062],\n",
       "       [3.37590297, 4.60099697],\n",
       "       [3.37346825, 4.60322475],\n",
       "       [3.37455128, 4.61026382],\n",
       "       [3.62026054, 4.5962348 ],\n",
       "       [3.61193967, 4.59082317],\n",
       "       [3.60482192, 4.58693027],\n",
       "       [3.5977163 , 4.58304405],\n",
       "       [3.59062315, 4.57916498],\n",
       "       [3.58354172, 4.57529211],\n",
       "       [3.57647198, 4.57142544],\n",
       "       [3.56941467, 4.56756592],\n",
       "       [3.56236903, 4.5637126 ],\n",
       "       [3.55533503, 4.55986547],\n",
       "       [3.5483134 , 4.55602551],\n",
       "       [3.54130301, 4.55219126],\n",
       "       [3.53430496, 4.54836416],\n",
       "       [3.52731849, 4.54454327],\n",
       "       [3.52034357, 4.54072857],\n",
       "       [3.51338058, 4.53692055],\n",
       "       [3.50642911, 4.53311872],\n",
       "       [3.49948915, 4.5293231 ],\n",
       "       [3.49256105, 4.52553415],\n",
       "       [3.48564443, 4.5217514 ],\n",
       "       [3.47873928, 4.51797485],\n",
       "       [3.47184556, 4.5142045 ],\n",
       "       [3.46496364, 4.51044083],\n",
       "       [3.45809314, 4.50668335],\n",
       "       [3.45123402, 4.50293207],\n",
       "       [3.44438629, 4.49918699],\n",
       "       [3.43754991, 4.49544811],\n",
       "       [3.43072488, 4.49171543],\n",
       "       [3.42391118, 4.48798895],\n",
       "       [3.4171088 , 4.48426867],\n",
       "       [3.4103177 , 4.48055458],\n",
       "       [3.40353789, 4.47684669],\n",
       "       [3.39676934, 4.47314501],\n",
       "       [3.39001168, 4.46944904],\n",
       "       [3.3832656 , 4.46575975],\n",
       "       [3.37653038, 4.46207619],\n",
       "       [3.36980636, 4.45839882],\n",
       "       [3.36309316, 4.45472717],\n",
       "       [3.35639113, 4.45106173],\n",
       "       [3.34970024, 4.44740248],\n",
       "       [3.34302049, 4.44374943],\n",
       "       [3.3363515 , 4.4401021 ],\n",
       "       [3.32969324, 4.43646049],\n",
       "       [3.32304608, 4.43282509],\n",
       "       [3.31640998, 4.42919588],\n",
       "       [3.31020147, 4.42612982],\n",
       "       [3.30449241, 4.42372513],\n",
       "       [3.29788608, 4.42011213],\n",
       "       [3.29129076, 4.41650534],\n",
       "       [3.28470572, 4.41290379],\n",
       "       [3.27813165, 4.40930843],\n",
       "       [3.27156854, 4.40571928],\n",
       "       [3.26501567, 4.40213537],\n",
       "       [3.25847373, 4.39855766],\n",
       "       [3.25194235, 4.39498568],\n",
       "       [3.24542151, 4.39141941],\n",
       "       [3.24013046, 4.38951063],\n",
       "       [3.25925878, 4.42071867],\n",
       "       [3.37292543, 4.5803833 ],\n",
       "       [3.38189552, 4.59808445],\n",
       "       [3.37825494, 4.5986619 ],\n",
       "       [3.37582285, 4.60088778],\n",
       "       [3.37338822, 4.60311556],\n",
       "       [3.37438479, 4.61003637],\n",
       "       [3.62025603, 4.59622908],\n",
       "       [3.61193442, 4.5908165 ],\n",
       "       [3.60481668, 4.5869236 ],\n",
       "       [3.59771143, 4.58303785],\n",
       "       [3.59061792, 4.57915831],\n",
       "       [3.58353649, 4.57528543],\n",
       "       [3.57646713, 4.57141924],\n",
       "       [3.56940946, 4.56755924],\n",
       "       [3.56236382, 4.56370592],\n",
       "       [3.55533019, 4.55985928],\n",
       "       [3.5483082 , 4.55601883],\n",
       "       [3.54129819, 4.55218506],\n",
       "       [3.53429977, 4.54835749],\n",
       "       [3.52731331, 4.54453659],\n",
       "       [3.5203384 , 4.54072189],\n",
       "       [3.51337541, 4.53691387],\n",
       "       [3.50642394, 4.53311205],\n",
       "       [3.49948399, 4.52931643],\n",
       "       [3.4925559 , 4.52552748],\n",
       "       [3.48563929, 4.52174473],\n",
       "       [3.4787345 , 4.51796865],\n",
       "       [3.47184079, 4.5141983 ],\n",
       "       [3.46495888, 4.51043463],\n",
       "       [3.45808838, 4.50667715],\n",
       "       [3.45122927, 4.50292587],\n",
       "       [3.44438154, 4.49918079],\n",
       "       [3.43754517, 4.49544191],\n",
       "       [3.43072015, 4.49170923],\n",
       "       [3.42390646, 4.48798275],\n",
       "       [3.41710407, 4.48426247],\n",
       "       [3.41031299, 4.48054838],\n",
       "       [3.40353318, 4.4768405 ],\n",
       "       [3.39676463, 4.47313881],\n",
       "       [3.39000698, 4.46944284],\n",
       "       [3.38326091, 4.46575356],\n",
       "       [3.37652569, 4.46206999],\n",
       "       [3.36980168, 4.45839262],\n",
       "       [3.36308848, 4.45472097],\n",
       "       [3.35638645, 4.45105553],\n",
       "       [3.34969557, 4.44739628],\n",
       "       [3.34301583, 4.44374323],\n",
       "       [3.33634684, 4.4400959 ],\n",
       "       [3.32968859, 4.4364543 ],\n",
       "       [3.32304143, 4.43281889],\n",
       "       [3.31640534, 4.42918968],\n",
       "       [3.30977995, 4.4255662 ],\n",
       "       [3.30316559, 4.42194891],\n",
       "       [3.29656154, 4.41833687],\n",
       "       [3.28996885, 4.4147315 ],\n",
       "       [3.28338644, 4.41113138],\n",
       "       [3.27681501, 4.40753746],\n",
       "       [3.27025418, 4.40394926],\n",
       "       [3.26370429, 4.40036726],\n",
       "       [3.25716461, 4.3967905 ],\n",
       "       [3.25193812, 4.39497995],\n",
       "       [3.24541728, 4.39141369],\n",
       "       [3.24002839, 4.38937235],\n",
       "       [3.25910023, 4.42050362],\n",
       "       [3.37155425, 4.57852125],\n",
       "       [3.38184747, 4.59801912],\n",
       "       [3.37817507, 4.59855318],\n",
       "       [3.37574308, 4.60077906],\n",
       "       [3.37330855, 4.60300684],\n",
       "       [3.37421865, 4.6098094 ]])"
      ]
     },
     "execution_count": 55,
     "metadata": {},
     "output_type": "execute_result"
    }
   ],
   "source": [
    "points_sense"
   ]
  },
  {
   "cell_type": "code",
   "execution_count": 46,
   "id": "e2399161-fd7c-4827-a967-c8d107887983",
   "metadata": {},
   "outputs": [
    {
     "data": {
      "text/plain": [
       "(4940, 3)"
      ]
     },
     "execution_count": 46,
     "metadata": {},
     "output_type": "execute_result"
    }
   ],
   "source": [
    "pc.shape"
   ]
  },
  {
   "cell_type": "code",
   "execution_count": 47,
   "id": "d047cc44-b5e2-432b-94e1-412f98d38e6c",
   "metadata": {},
   "outputs": [
    {
     "data": {
      "text/plain": [
       "<mpl_toolkits.mplot3d.art3d.Path3DCollection at 0x7fb3368d5a20>"
      ]
     },
     "execution_count": 47,
     "metadata": {},
     "output_type": "execute_result"
    },
    {
     "data": {
      "image/png": "[encoded data removed]",
      "text/plain": [
       "<Figure size 432x288 with 1 Axes>"
      ]
     },
     "metadata": {
      "needs_background": "light"
     },
     "output_type": "display_data"
    }
   ],
   "source": [
    "fig = plt.figure()\n",
    "ax = plt.axes(projection='3d')\n",
    "ax.scatter(pc.T[0], pc.T[1], pc.T[2], color = 'gray')"
   ]
  },
  {
   "cell_type": "code",
   "execution_count": null,
   "id": "f3e5696b-8652-4329-a6ae-8c880abc21b5",
   "metadata": {},
   "outputs": [],
   "source": []
  }
 ],
 "metadata": {
  "kernelspec": {
   "display_name": "Python 3",
   "language": "python",
   "name": "python3"
  },
  "language_info": {
   "codemirror_mode": {
    "name": "ipython",
    "version": 3
   },
   "file_extension": ".py",
   "mimetype": "text/x-python",
   "name": "python",
   "nbconvert_exporter": "python",
   "pygments_lexer": "ipython3",
   "version": "3.6.9"
  }
 },
 "nbformat": 4,
 "nbformat_minor": 5
}
